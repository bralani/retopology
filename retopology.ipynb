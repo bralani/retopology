{
 "cells": [
  {
   "cell_type": "code",
   "execution_count": null,
   "metadata": {},
   "outputs": [],
   "source": [
    "# importing libraries\n",
    "\n",
    "import open3d, os\n",
    "import ctypes\n",
    "from ctypes import *\n",
    "from glob import glob"
   ]
  },
  {
   "cell_type": "markdown",
   "metadata": {},
   "source": [
    "# Data augmentation"
   ]
  },
  {
   "cell_type": "code",
   "execution_count": null,
   "metadata": {},
   "outputs": [],
   "source": [
    "from data_augmentation import rotate_scale\n",
    "\n",
    "# read all the files in the folder dataset/original_dataset\n",
    "files = glob(\"./new_dataset/train/input/quads/*\")\n",
    "\n",
    "for file in files:\n",
    "    rotate_scale(file)\n"
   ]
  },
  {
   "cell_type": "code",
   "execution_count": null,
   "metadata": {},
   "outputs": [],
   "source": [
    "from data_augmentation import data_preprocessing\n",
    "\n",
    "# read all the files in the folder dataset/original_dataset\n",
    "files = glob(\"./new_dataset/train/input/quads/*\")\n",
    "\n",
    "for file in files:\n",
    "    data_preprocessing(file)\n"
   ]
  },
  {
   "cell_type": "code",
   "execution_count": null,
   "metadata": {},
   "outputs": [],
   "source": [
    "from utils import generate_output\n",
    "import numpy as np\n",
    "\n",
    "files_quads = glob(\"./new_dataset/train/input/quads/*\")\n",
    "\n",
    "for file in files_quads:\n",
    "  file_name = os.path.basename(file)\n",
    "  file_triangle = \"./new_dataset/train/input/triangles/\" + file_name\n",
    "\n",
    "  orientation_fields = generate_output(file_triangle, file)\n",
    "  orientation_fields_reshaped = orientation_fields.reshape(orientation_fields.shape[0], -1)\n",
    "\n",
    "\n",
    "  # save the orientation fields in a txt file\n",
    "  output_file = \"./new_dataset/train/output/\" + file_name\n",
    "  np.savetxt(output_file, orientation_fields_reshaped)\n",
    "\n",
    "\n",
    "  print(\"Orientation fields saved in: \", output_file)"
   ]
  },
  {
   "cell_type": "markdown",
   "metadata": {},
   "source": [
    "## Loading mesh to retopologize"
   ]
  },
  {
   "cell_type": "code",
   "execution_count": null,
   "metadata": {},
   "outputs": [],
   "source": [
    "# loading the shared library with C++\n",
    "shared_library_path = glob(os.path.join(\"./build\", \"**/*.so\"), recursive=True)\n",
    "assert shared_library_path, \"No shared library found, please build the shared library first (README.md for instructions)\"\n",
    "shared_library = ctypes.CDLL(shared_library_path[0])\n",
    "\n",
    "file_path = \"./new_dataset/train/input/triangles\"\n",
    "file_output_path = os.path.join(file_path, \"..\", \"..\", \"output\")\n",
    "\n",
    "files_triangles = glob(\"./new_dataset/train/input/triangles/*\")\n",
    "\n",
    "for file_triangle in files_triangles:\n",
    "\n",
    "    mesh = open3d.io.read_triangle_mesh(file_triangle)\n",
    "\n",
    "    vertices = mesh.vertices\n",
    "    triangles = mesh.triangles\n",
    "\n",
    "    num_vertices = len(vertices)\n",
    "    num_triangles = len(triangles)\n",
    "\n",
    "    # create file input.txt\n",
    "    file = open(\"input.txt\", \"w\")\n",
    "\n",
    "    # write vertices\n",
    "    for i in range(len(vertices)):\n",
    "        file.write(str(vertices[i][0]) + \" \" + str(vertices[i][1]) + \" \" + str(vertices[i][2]) + \"\\n\")\n",
    "\n",
    "    # write triangles\n",
    "    for i in range(len(triangles)):\n",
    "        file.write(str(triangles[i][0]) + \" \" + str(triangles[i][1]) + \" \" + str(triangles[i][2]) + \"\\n\")\n",
    "\n",
    "\n",
    "    file.close()\n",
    "\n",
    "    k = 3 # neighborhood size\n",
    "\n",
    "    file_output = os.path.join(file_output_path, os.path.basename(file_triangle))\n",
    "\n",
    "    # get the complete url of the file\n",
    "    file_output = os.path.abspath(file_output)\n",
    "\n",
    "    # modify the basename concatenating _principal_directions\n",
    "    file_output = file_output.replace(\".obj\", \"_principal_directions.txt\")\n",
    "\n",
    "    output = create_string_buffer(file_output.encode('utf-8'),size=100)\n",
    "    shared_library.crest_lines(num_vertices, num_triangles, k, output)"
   ]
  }
 ],
 "metadata": {
  "kernelspec": {
   "display_name": "Python 3",
   "language": "python",
   "name": "python3"
  },
  "language_info": {
   "codemirror_mode": {
    "name": "ipython",
    "version": 3
   },
   "file_extension": ".py",
   "mimetype": "text/x-python",
   "name": "python",
   "nbconvert_exporter": "python",
   "pygments_lexer": "ipython3",
   "version": "3.9.8"
  }
 },
 "nbformat": 4,
 "nbformat_minor": 2
}
