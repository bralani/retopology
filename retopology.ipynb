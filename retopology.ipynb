{
 "cells": [
  {
   "cell_type": "markdown",
   "metadata": {},
   "source": [
    "# Direction Field Extraction through DiffusionNet for Quad Mesh Retopology"
   ]
  },
  {
   "cell_type": "markdown",
   "metadata": {},
   "source": [
    "State-of-the-art quadrangulation methods rely on dense direction fields, often interpolated from principal curvature directions, to align parametrizations for quad mesh extraction. These methods struggle with intricate structures in expert-designed meshes. To address this, we use diffusion networks to compute direction fields that emulate expert-crafted structures. Our approach incorporates higher-level domain knowledge from existing meshes, guiding a parametrization-based quad meshing technique. Results show good alignment with ground truth structures, indicating the potential of our method to advance quad mesh retopology."
   ]
  },
  {
   "cell_type": "markdown",
   "metadata": {},
   "source": [
    "Members:\n",
    "- Balice Matteo (10978268)\n",
    "- Doronzo Antonio Giuseppe (11016435)"
   ]
  },
  {
   "cell_type": "markdown",
   "metadata": {},
   "source": [
    "# Dataset\n",
    "\n",
    "Since our dataset is quite big and it take several hours to preprocess it, we have uploaded the preprocessed dataset in a zip file. You can download it from [here](https://polimi365-my.sharepoint.com/:u:/g/personal/10978268_polimi_it/EdHy8Ij3NSpPmQh7nrogHWYB7OizNwVeL_f_Vt6rfnmYbA?e=LtZy1c).\n",
    "Be sure to extract the zip file and upload the dataset to the working directory.\n",
    "\n",
    "Instead, if you want the dataset not preprocessed, you can download it from [here](https://smpl.is.tue.mpg.de/download.php) (Sample Animated Bodies)."
   ]
  },
  {
   "cell_type": "markdown",
   "metadata": {},
   "source": [
    "# Preprocessing\n",
    "Skip this section if you have downloaded the preprocessed dataset and go directly to the training of neural network.\n",
    "\n",
    "#### Data augmentation"
   ]
  },
  {
   "cell_type": "markdown",
   "metadata": {},
   "source": [
    "First of all we need to augment the data in order to prevent overfitting.\n",
    "First step is to rotate and scale (without changing the aspect ratio) the meshes."
   ]
  },
  {
   "cell_type": "code",
   "execution_count": null,
   "metadata": {},
   "outputs": [],
   "source": [
    "from glob import glob\n",
    "from utils import rotate_scale\n",
    "\n",
    "files_train = glob(\"./dataset/train/input/quads/*\")\n",
    "for file in files_train:\n",
    "    rotate_scale(file)"
   ]
  },
  {
   "cell_type": "markdown",
   "metadata": {},
   "source": [
    "Secondly, we generate the trimesh objects from the quads meshes. This is done because the input of our network must be a trimesh object."
   ]
  },
  {
   "cell_type": "code",
   "execution_count": null,
   "metadata": {},
   "outputs": [],
   "source": [
    "from glob import glob\n",
    "from utils import generate_trimesh\n",
    "\n",
    "files_train = glob(\"./dataset/train/input/quads/*\")\n",
    "\n",
    "for file in files_train:\n",
    "    generate_trimesh(file)\n",
    "\n",
    "\n",
    "files_test = glob(\"./dataset/test/input/quads/*\")\n",
    "\n",
    "for file in files_test:\n",
    "    generate_trimesh(file, False)"
   ]
  },
  {
   "cell_type": "markdown",
   "metadata": {},
   "source": [
    "Lastly, we generate the output (true labels) of the network, which are the direction fields of the vertices."
   ]
  },
  {
   "cell_type": "code",
   "execution_count": null,
   "metadata": {},
   "outputs": [],
   "source": [
    "from glob import glob\n",
    "from utils import generate_directions_field\n",
    "\n",
    "files_quads_train = glob(\"./dataset/train/input/quads/*\")\n",
    "for file in files_quads_train:\n",
    "  generate_directions_field(file)\n",
    "\n",
    "files_quads_test = glob(\"./dataset/train/input/quads/*\")\n",
    "for file in files_quads_test:\n",
    "  generate_directions_field(file, train=False)"
   ]
  },
  {
   "cell_type": "markdown",
   "metadata": {},
   "source": [
    "We compute the principal curvature and principal directions of the vertices from the C++ library."
   ]
  },
  {
   "cell_type": "code",
   "execution_count": null,
   "metadata": {},
   "outputs": [],
   "source": [
    "import os, ctypes, open3d, glob\n",
    "from ctypes import create_string_buffer\n",
    "\n",
    "# loading the shared library with C++\n",
    "shared_library_path = glob(os.path.join(\"./build\", \"**/*.so\"), recursive=True)\n",
    "assert shared_library_path, \"No shared library found, please build the shared library first (README.md for instructions)\"\n",
    "shared_library = ctypes.CDLL(shared_library_path[0])\n",
    "\n",
    "file_path = \"./dataset/train/input/triangles\"\n",
    "file_output_path = os.path.join(file_path, \"..\", \"..\", \"output\")\n",
    "\n",
    "files_triangles = glob(\"./dataset/train/input/triangles/*\")\n",
    "\n",
    "for file_triangle in files_triangles:\n",
    "\n",
    "    mesh = open3d.io.read_triangle_mesh(file_triangle)\n",
    "\n",
    "    vertices = mesh.vertices\n",
    "    triangles = mesh.triangles\n",
    "\n",
    "    num_vertices = len(vertices)\n",
    "    num_triangles = len(triangles)\n",
    "\n",
    "    # create file input.txt\n",
    "    file = open(\"input.txt\", \"w\")\n",
    "\n",
    "    # write vertices\n",
    "    for i in range(len(vertices)):\n",
    "        file.write(str(vertices[i][0]) + \" \" + str(vertices[i][1]) + \" \" + str(vertices[i][2]) + \"\\n\")\n",
    "\n",
    "    # write triangles\n",
    "    for i in range(len(triangles)):\n",
    "        file.write(str(triangles[i][0]) + \" \" + str(triangles[i][1]) + \" \" + str(triangles[i][2]) + \"\\n\")\n",
    "\n",
    "    file.close()\n",
    "\n",
    "    k = 3 # neighborhood size\n",
    "\n",
    "    file_output = os.path.join(file_output_path, os.path.basename(file_triangle))\n",
    "\n",
    "    # get the complete url of the file\n",
    "    file_output = os.path.abspath(file_output)\n",
    "\n",
    "    # modify the basename concatenating _principal_directions\n",
    "    file_output = file_output.replace(\".obj\", \"_principal_directions.txt\")\n",
    "\n",
    "    output = create_string_buffer(file_output.encode('utf-8'),size=100)\n",
    "    shared_library.crest_lines(num_vertices, num_triangles, k, output)"
   ]
  },
  {
   "cell_type": "markdown",
   "metadata": {},
   "source": [
    "# Training"
   ]
  },
  {
   "cell_type": "markdown",
   "metadata": {},
   "source": [
    "We used DiffusionNet to compute the direction fields of the vertices. The network is trained on the dataset we have just created."
   ]
  },
  {
   "cell_type": "markdown",
   "metadata": {},
   "source": [
    "Training parameters"
   ]
  },
  {
   "cell_type": "code",
   "execution_count": 1,
   "metadata": {},
   "outputs": [
    {
     "name": "stdout",
     "output_type": "stream",
     "text": [
      "Using CPU...\n"
     ]
    }
   ],
   "source": [
    "import torch\n",
    "import os\n",
    "from pathlib import Path\n",
    "\n",
    "if torch.cuda.is_available():\n",
    "    device = torch.device('cuda')\n",
    "    print(\"Using CUDA...\")\n",
    "else:\n",
    "    device = torch.device('cpu')\n",
    "    print(\"Using CPU...\")\n",
    "\n",
    "dtype = torch.float32\n",
    "\n",
    "# Problem/dataset things\n",
    "n_class = 4                 # Number of labels to predict (2 vectors with theta and phi angles)\n",
    "\n",
    "# Model \n",
    "input_features = 'hks'      # 'hks' or 'xyz'\n",
    "k_eig = 128                 \n",
    "\n",
    "# Training settings\n",
    "train = True                # Whether to train the model\n",
    "n_epoch = 10000             # Number of epochs\n",
    "lr = 1e-4                   # Learning rate\n",
    "decay_every = 50            # Decay learning rate every n epochs\n",
    "decay_rate = 0.5            # Learning rate decay rate\n",
    "augment_random_rotate = (input_features == 'xyz')\n",
    "\n",
    "# paths\n",
    "base_path = Path(os.getcwd())\n",
    "op_cache_dir = os.path.join(base_path, \"neural_network\", \"data\", \"op_cache\")\n",
    "dataset_path = os.path.join(base_path, \"dataset\")\n",
    "dataset_path = os.path.normpath(dataset_path)"
   ]
  },
  {
   "cell_type": "markdown",
   "metadata": {},
   "source": [
    "Loading data and caching it.\n",
    "If you want to load a subset of the dataset, go to the file neural_network/dataset.py and uncomment the lines 94 and 110 (but be sure to restart the kernel of the notebook)."
   ]
  },
  {
   "cell_type": "code",
   "execution_count": 2,
   "metadata": {},
   "outputs": [
    {
     "name": "stdout",
     "output_type": "stream",
     "text": [
      "loading 1 meshes\n",
      "loading mesh /Users/matteobalice/Desktop/retopology/dataset/train/input/triangles/female_0001.obj\n",
      "get_all_operators() processing 0 / 1 0.000%\n",
      "loading 1 meshes\n",
      "loading mesh /Users/matteobalice/Desktop/retopology/dataset/train/input/triangles/female_0001.obj\n"
     ]
    },
    {
     "name": "stderr",
     "output_type": "stream",
     "text": [
      "/Users/matteobalice/Desktop/retopology/neural_network/diffusion_net/network_utils.py:55: UserWarning: torch.sparse.SparseTensor(indices, values, shape, *, device=) is deprecated.  Please use torch.sparse_coo_tensor(indices, values, shape, dtype=, device=). (Triggered internally at /Users/runner/work/pytorch/pytorch/pytorch/torch/csrc/utils/tensor_new.cpp:620.)\n",
      "  return torch.sparse.FloatTensor(torch.LongTensor(indices), torch.FloatTensor(values), torch.Size(shape)).coalesce()\n"
     ]
    },
    {
     "name": "stdout",
     "output_type": "stream",
     "text": [
      "get_all_operators() processing 0 / 1 0.000%\n"
     ]
    }
   ],
   "source": [
    "from torch.utils.data import DataLoader\n",
    "from neural_network.dataset import MeshDataset\n",
    "\n",
    "# Load the test dataset\n",
    "test_dataset = MeshDataset(dataset_path, train=False, k_eig=k_eig, use_cache=False, op_cache_dir=op_cache_dir)\n",
    "test_loader = DataLoader(test_dataset, batch_size=None)\n",
    "\n",
    "# Load the train dataset\n",
    "if train:\n",
    "    train_dataset = MeshDataset(dataset_path, train=True, k_eig=k_eig, use_cache=False, op_cache_dir=op_cache_dir)\n",
    "    train_loader = DataLoader(train_dataset, batch_size=None, shuffle=True)"
   ]
  },
  {
   "cell_type": "markdown",
   "metadata": {},
   "source": [
    "### DiffusionNet\n",
    "DiffusionNet, the neural network we used, comprises three core components: multilayer perceptrons (MLPs) for modeling scalar functions at each point, a diffusion process for transmitting information across the space, and local spatial gradient features that enhance filter space beyond radial symmetry. The network learns functions on surfaces, using spatial diffusion as the main operation. For vertices $ V $ with $ D $ scalar features each, a pointwise function $ f: \\mathbb{R}^D \\to \\mathbb{R}^D $, represented by MLPs, transforms features at each vertex. \n",
    "\n",
    "To propagate features on surfaces, the heat equation $ \\frac{d}{dt} u_t = \\Delta u_t $ is used, with the diffusion process $ H_t(u_0) = \\exp(t\\Delta)u_0 $ averaging features across the surface. The Laplacian $ \\Delta $ is approximated by a matrix $ L $ for efficiency. Features are diffused over time to achieve both local and global distribution, optimizing diffusion as a network parameter while retaining convolutional network power."
   ]
  },
  {
   "cell_type": "code",
   "execution_count": 3,
   "metadata": {},
   "outputs": [],
   "source": [
    "from neural_network import diffusion_net\n",
    "\n",
    "# === Create the model\n",
    "\n",
    "C_in={'xyz':3, 'hks':12}[input_features] # Dimension of input features\n",
    "\n",
    "model = diffusion_net.layers.DiffusionNet(C_in=C_in,\n",
    "                                          C_out=n_class,\n",
    "                                          C_width=256, \n",
    "                                          N_block=5,\n",
    "                                          outputs_at='vertices', \n",
    "                                          dropout=False)\n",
    "\n",
    "if os.path.exists('saved_model.pth'):\n",
    "    model.load_state_dict(torch.load('saved_model.pth', map_location=device))\n",
    "    print('Loaded model from: saved_model.pth')\n",
    "\n",
    "model = model.to(device)\n",
    "\n",
    "# === Optimize\n",
    "\n",
    "optimizer = torch.optim.Adam(model.parameters(), lr=lr, weight_decay=1e-5)"
   ]
  },
  {
   "cell_type": "markdown",
   "metadata": {},
   "source": [
    "## Loss Function 1\n",
    "\n",
    "\n",
    "The first loss function we have used is designed to measure the discrepancy between the model's predictions and the target values for the angular variables $\\theta$ and $\\phi$.\n",
    "It consists of two components:\n",
    "\n",
    "- Loss for $\\theta$: \n",
    "$\n",
    "\\text{Loss}_\\theta = \\sin^2(\\theta_{\\text{pred}} - \\theta_{\\text{target}})\n",
    "$\n",
    "\n",
    "- Loss for $\\phi$: \n",
    "$\n",
    "\\text{Loss}_\\phi = \\sin^2\\left(\\frac{\\phi_{\\text{pred}} - \\phi_{\\text{target}}}{2}\\right)\n",
    "$\n",
    "\n",
    "The total loss is the sum of these two components:\n",
    "$ Loss = Loss_\\theta + Loss_\\phi $\n",
    "\n",
    "\n",
    "Then, we combine two different  predictions and targets to ensure robustness:\n",
    "  - Prediction of $u_1$ with $u_2$ and $v_1$ with $v_2$.\n",
    "  - Prediction of $u_1$ with $v_2$ and $v_1$ with $v_1$.\n",
    "  \n",
    "The minimum sum of these combinations is taken as the final loss. This approach ensures that the model considers the best possible match between predictions and targets, enhancing the model's robustness to angular prediction errors."
   ]
  },
  {
   "cell_type": "code",
   "execution_count": 4,
   "metadata": {},
   "outputs": [
    {
     "name": "stdout",
     "output_type": "stream",
     "text": [
      "Training...\n"
     ]
    },
    {
     "name": "stderr",
     "output_type": "stream",
     "text": [
      "100%|██████████| 933/933 [10:51<00:00,  1.43it/s]\n"
     ]
    },
    {
     "name": "stdout",
     "output_type": "stream",
     "text": [
      "Epoch 0 - Train overall: 00.315\n"
     ]
    },
    {
     "name": "stderr",
     "output_type": "stream",
     "text": [
      "100%|██████████| 933/933 [11:05<00:00,  1.40it/s]\n"
     ]
    },
    {
     "name": "stdout",
     "output_type": "stream",
     "text": [
      "Epoch 10 - Train overall: 00.290\n"
     ]
    },
    {
     "name": "stderr",
     "output_type": "stream",
     "text": [
      "100%|██████████| 933/933 [11:28<00:00,  1.36it/s]\n"
     ]
    },
    {
     "name": "stdout",
     "output_type": "stream",
     "text": [
      "Epoch 20 - Train overall: 00.285\n"
     ]
    },
    {
     "name": "stderr",
     "output_type": "stream",
     "text": [
      "100%|██████████| 933/933 [12:43<00:00,  1.22it/s]\n"
     ]
    },
    {
     "name": "stdout",
     "output_type": "stream",
     "text": [
      "Epoch 30 - Train overall: 00.277\n"
     ]
    },
    {
     "name": "stderr",
     "output_type": "stream",
     "text": [
      "100%|██████████| 933/933 [11:16<00:00,  1.38it/s]\n"
     ]
    },
    {
     "name": "stdout",
     "output_type": "stream",
     "text": [
      "Epoch 40 - Train overall: 00.276\n"
     ]
    },
    {
     "name": "stderr",
     "output_type": "stream",
     "text": [
      "100%|██████████| 933/933 [10:58<00:00,  1.42it/s]\n"
     ]
    },
    {
     "name": "stdout",
     "output_type": "stream",
     "text": [
      "Epoch 50 - Train overall: 00.273\n"
     ]
    },
    {
     "name": "stderr",
     "output_type": "stream",
     "text": [
      "100%|██████████| 933/933 [11:17<00:00,  1.38it/s]\n"
     ]
    },
    {
     "name": "stdout",
     "output_type": "stream",
     "text": [
      "Epoch 60 - Train overall: 00.271\n"
     ]
    },
    {
     "name": "stderr",
     "output_type": "stream",
     "text": [
      "100%|██████████| 933/933 [12:24<00:00,  1.25it/s]\n"
     ]
    },
    {
     "name": "stdout",
     "output_type": "stream",
     "text": [
      "Epoch 70 - Train overall: 00.268\n"
     ]
    },
    {
     "name": "stderr",
     "output_type": "stream",
     "text": [
      "100%|██████████| 933/933 [11:15<00:00,  1.38it/s]\n"
     ]
    },
    {
     "name": "stdout",
     "output_type": "stream",
     "text": [
      "Epoch 80 - Train overall: 00.268\n"
     ]
    },
    {
     "name": "stderr",
     "output_type": "stream",
     "text": [
      "100%|██████████| 933/933 [10:56<00:00,  1.42it/s]\n"
     ]
    },
    {
     "name": "stderr",
     "output_type": "stream",
     "text": [
      "100%|██████████| 933/933 [10:56<00:00,  1.42it/s]\n"
     ]
    },
    {
     "name": "stdout",
     "output_type": "stream",
     "text": [
      "Epoch 90 - Train overall: 00.265\n"
     ]
    },
    {
     "name": "stdout",
     "output_type": "stream",
     "text": [
      "Epoch 100 - Train overall: 00.263 Test overall: 00.433\n"
     ]
    }
   ],
   "source": [
    "from neural_network.neural_network_management import train_epoch, test\n",
    "\n",
    "if train:\n",
    "    print(\"Training...\")\n",
    "\n",
    "    for epoch in range(n_epoch):\n",
    "        if epoch % 100 == 0 and epoch > 0:\n",
    "            torch.save(model.state_dict(), 'saved_model.pth')\n",
    "            print('Model saved in: saved_model.pth')\n",
    "        train_loss = train_epoch(epoch, decay_every, decay_rate, optimizer, model, train_loader, device, augment_random_rotate, input_features)\n",
    "\n",
    "        if epoch % 20 == 0 and epoch > 0:\n",
    "            test_loss = test(model, test_loader, device, input_features)\n",
    "            print(\"Epoch {} - Train overall: {:06.3f}  Test overall: {:06.3f}\".format(epoch, train_loss, test_loss))\n",
    "        else:\n",
    "            print(\"Epoch {} - Train overall: {:06.3f}\".format(epoch, train_loss))\n",
    "\n",
    "\n",
    "test_loss, theta_loss, phi_loss = test()\n",
    "print(\"Overall test loss: {:06.3f}%\".format(test_loss))"
   ]
  },
  {
   "cell_type": "markdown",
   "metadata": {},
   "source": [
    "## Loss Function 2\n",
    "\n",
    "\n",
    "The loss function we used is designed to measure the discrepancy between the model's predictions and the target vectors.\n",
    "It is the cosine similarity of the predicted and target vectors but using the absolute value of the dot product to ensure that the loss is always positive (because we want only the direction of the cross fields).\n",
    "\n",
    "Loss = $1-\\frac{|u \\cdot v|}{\\|u\\| \\|v\\|}$\n",
    "\n",
    "Similarly as before, to ensure robustness, we combine two different predictions and targets:\n",
    "  - Prediction of $u_1$ with $u_2$ and $v_1$ with $v_2$.\n",
    "  - Prediction of $u_1$ with $v_2$ and $v_1$ with $v_1$.\n",
    "  \n",
    "The minimum sum of these combinations is taken as the final loss. This approach ensures that the model considers the best possible match between predictions and targets.\n"
   ]
  },
  {
   "cell_type": "code",
   "execution_count": null,
   "metadata": {},
   "outputs": [
    {
     "name": "stdout",
     "output_type": "stream",
     "text": [
      "Training...\n"
     ]
    },
    {
     "name": "stderr",
     "output_type": "stream",
     "text": [
      "100%|██████████| 933/933 [10:51<00:00,  1.43it/s]\n"
     ]
    },
    {
     "name": "stdout",
     "output_type": "stream",
     "text": [
      "Epoch 0 - Train overall: 00.335\n"
     ]
    },
    {
     "name": "stderr",
     "output_type": "stream",
     "text": [
      "100%|██████████| 933/933 [11:05<00:00,  1.40it/s]\n"
     ]
    },
    {
     "name": "stdout",
     "output_type": "stream",
     "text": [
      "Epoch 1 - Train overall: 00.336\n"
     ]
    },
    {
     "name": "stderr",
     "output_type": "stream",
     "text": [
      "100%|██████████| 933/933 [11:28<00:00,  1.36it/s]\n"
     ]
    },
    {
     "name": "stdout",
     "output_type": "stream",
     "text": [
      "Epoch 2 - Train overall: 00.335\n"
     ]
    },
    {
     "name": "stderr",
     "output_type": "stream",
     "text": [
      "100%|██████████| 933/933 [12:43<00:00,  1.22it/s]\n"
     ]
    },
    {
     "name": "stdout",
     "output_type": "stream",
     "text": [
      "Epoch 3 - Train overall: 00.334\n"
     ]
    },
    {
     "name": "stderr",
     "output_type": "stream",
     "text": [
      "100%|██████████| 933/933 [11:16<00:00,  1.38it/s]\n"
     ]
    },
    {
     "name": "stdout",
     "output_type": "stream",
     "text": [
      "Epoch 4 - Train overall: 00.334\n"
     ]
    },
    {
     "name": "stderr",
     "output_type": "stream",
     "text": [
      "100%|██████████| 933/933 [10:58<00:00,  1.42it/s]\n"
     ]
    },
    {
     "name": "stdout",
     "output_type": "stream",
     "text": [
      "Epoch 5 - Train overall: 00.335\n"
     ]
    },
    {
     "name": "stderr",
     "output_type": "stream",
     "text": [
      "100%|██████████| 933/933 [11:17<00:00,  1.38it/s]\n"
     ]
    },
    {
     "name": "stdout",
     "output_type": "stream",
     "text": [
      "Epoch 6 - Train overall: 00.334\n"
     ]
    },
    {
     "name": "stderr",
     "output_type": "stream",
     "text": [
      "100%|██████████| 933/933 [12:24<00:00,  1.25it/s]\n"
     ]
    },
    {
     "name": "stdout",
     "output_type": "stream",
     "text": [
      "Epoch 7 - Train overall: 00.335\n"
     ]
    },
    {
     "name": "stderr",
     "output_type": "stream",
     "text": [
      "100%|██████████| 933/933 [11:15<00:00,  1.38it/s]\n"
     ]
    },
    {
     "name": "stdout",
     "output_type": "stream",
     "text": [
      "Epoch 8 - Train overall: 00.334\n"
     ]
    },
    {
     "name": "stderr",
     "output_type": "stream",
     "text": [
      "100%|██████████| 933/933 [10:56<00:00,  1.42it/s]\n"
     ]
    },
    {
     "name": "stdout",
     "output_type": "stream",
     "text": [
      "Epoch 9 - Train overall: 00.333\n"
     ]
    },
    {
     "name": "stderr",
     "output_type": "stream",
     "text": [
      "100%|██████████| 933/933 [11:42<00:00,  1.33it/s]\n"
     ]
    },
    {
     "name": "stdout",
     "output_type": "stream",
     "text": [
      "Epoch 10 - Train overall: 00.333\n"
     ]
    },
    {
     "name": "stderr",
     "output_type": "stream",
     "text": [
      "100%|██████████| 933/933 [11:40<00:00,  1.33it/s]\n"
     ]
    },
    {
     "name": "stdout",
     "output_type": "stream",
     "text": [
      "Epoch 11 - Train overall: 00.333\n"
     ]
    },
    {
     "name": "stderr",
     "output_type": "stream",
     "text": [
      "100%|██████████| 933/933 [11:12<00:00,  1.39it/s]\n"
     ]
    },
    {
     "name": "stdout",
     "output_type": "stream",
     "text": [
      "Epoch 12 - Train overall: 00.332\n"
     ]
    },
    {
     "name": "stderr",
     "output_type": "stream",
     "text": [
      "100%|██████████| 933/933 [10:50<00:00,  1.43it/s]\n"
     ]
    },
    {
     "name": "stdout",
     "output_type": "stream",
     "text": [
      "Epoch 13 - Train overall: 00.332\n"
     ]
    },
    {
     "name": "stderr",
     "output_type": "stream",
     "text": [
      "100%|██████████| 933/933 [13:25<00:00,  1.16it/s]\n"
     ]
    },
    {
     "name": "stdout",
     "output_type": "stream",
     "text": [
      "Epoch 14 - Train overall: 00.333\n"
     ]
    },
    {
     "name": "stderr",
     "output_type": "stream",
     "text": [
      "100%|██████████| 933/933 [14:34<00:00,  1.07it/s]\n"
     ]
    },
    {
     "name": "stdout",
     "output_type": "stream",
     "text": [
      "Epoch 15 - Train overall: 00.332\n"
     ]
    },
    {
     "name": "stderr",
     "output_type": "stream",
     "text": [
      "100%|██████████| 933/933 [16:21<00:00,  1.05s/it]\n"
     ]
    },
    {
     "name": "stdout",
     "output_type": "stream",
     "text": [
      "Epoch 16 - Train overall: 00.331\n"
     ]
    },
    {
     "name": "stderr",
     "output_type": "stream",
     "text": [
      "100%|██████████| 933/933 [17:25<00:00,  1.12s/it]\n"
     ]
    },
    {
     "name": "stdout",
     "output_type": "stream",
     "text": [
      "Epoch 17 - Train overall: 00.331\n"
     ]
    },
    {
     "name": "stderr",
     "output_type": "stream",
     "text": [
      "100%|██████████| 933/933 [12:42<00:00,  1.22it/s]\n"
     ]
    },
    {
     "name": "stdout",
     "output_type": "stream",
     "text": [
      "Epoch 18 - Train overall: 00.331\n"
     ]
    },
    {
     "name": "stderr",
     "output_type": "stream",
     "text": [
      "100%|██████████| 933/933 [09:58<00:00,  1.56it/s]\n"
     ]
    },
    {
     "name": "stdout",
     "output_type": "stream",
     "text": [
      "Epoch 19 - Train overall: 00.330\n",
      "Model saved in: saved_model.pth\n"
     ]
    },
    {
     "name": "stderr",
     "output_type": "stream",
     "text": [
      "100%|██████████| 933/933 [09:45<00:00,  1.59it/s]\n",
      "100%|██████████| 230/230 [02:05<00:00,  1.83it/s]\n"
     ]
    },
    {
     "name": "stdout",
     "output_type": "stream",
     "text": [
      "Epoch 20 - Train overall: 00.330  Test overall: 00.189\n"
     ]
    },
    {
     "name": "stderr",
     "output_type": "stream",
     "text": [
      "100%|██████████| 933/933 [10:46<00:00,  1.44it/s]\n"
     ]
    },
    {
     "name": "stdout",
     "output_type": "stream",
     "text": [
      "Epoch 21 - Train overall: 00.330\n"
     ]
    },
    {
     "name": "stderr",
     "output_type": "stream",
     "text": [
      "100%|██████████| 933/933 [10:14<00:00,  1.52it/s]\n"
     ]
    },
    {
     "name": "stdout",
     "output_type": "stream",
     "text": [
      "Epoch 22 - Train overall: 00.330\n"
     ]
    },
    {
     "name": "stderr",
     "output_type": "stream",
     "text": [
      "  1%|          | 7/933 [00:04<08:57,  1.72it/s]\n"
     ]
    }
   ],
   "source": [
    "from neural_network.neural_network_management import train_epoch, test\n",
    "\n",
    "if train:\n",
    "    print(\"Training...\")\n",
    "\n",
    "    for epoch in range(n_epoch):\n",
    "        if epoch % 20 == 0 and epoch > 0:\n",
    "            torch.save(model.state_dict(), 'saved_model.pth')\n",
    "            print('Model saved in: saved_model.pth')\n",
    "        train_loss = train_epoch(epoch, decay_every, decay_rate, optimizer, model, train_loader, device, augment_random_rotate, input_features)\n",
    "\n",
    "        if epoch % 20 == 0 and epoch > 0:\n",
    "            test_loss = test(model, test_loader, device, input_features)\n",
    "            print(\"Epoch {} - Train overall: {:06.3f}  Test overall: {:06.3f}\".format(epoch, train_loss, test_loss))\n",
    "        else:\n",
    "            print(\"Epoch {} - Train overall: {:06.3f}\".format(epoch, train_loss))\n",
    "\n",
    "\n",
    "test_loss, theta_loss, phi_loss = test()\n",
    "print(\"Overall test loss: {:06.3f}%\".format(test_loss))"
   ]
  },
  {
   "cell_type": "markdown",
   "metadata": {},
   "source": [
    "# Evaluation"
   ]
  },
  {
   "cell_type": "markdown",
   "metadata": {},
   "source": [
    "### Evalution of Loss Function 1"
   ]
  },
  {
   "cell_type": "markdown",
   "metadata": {},
   "source": [
    "Here we plot one example of the ground truth direction field and the predicted direction field using the first loss function."
   ]
  },
  {
   "cell_type": "code",
   "execution_count": 17,
   "metadata": {},
   "outputs": [
    {
     "data": {
      "application/vnd.plotly.v1+json": {
       "config": {
        "plotlyServerURL": "https://plot.ly"
       },
       "data": [
        {
         "hovertemplate": "x=%{x}<br>y=%{y}<br>z=%{z}<extra></extra>",
         "legendgroup": "",
         "marker": {
          "color": "#636efa",
          "symbol": "circle"
         },
         "mode": "markers",
         "name": "",
         "scene": "scene",
         "showlegend": false,
         "type": "scatter3d",
         "x": [
          0,
          0.6238589462831494,
          0,
          0.6507130287216788,
          0,
          0.13375507856200625,
          0,
          0.17951376971927632
         ],
         "y": [
          0,
          0.1435507526410143,
          0,
          -0.30124975147515326,
          0,
          0.6708398666851612,
          0,
          0.6691596476093542
         ],
         "z": [
          0,
          0.7682403247413382,
          0,
          -0.6970087097648192,
          0,
          -0.7294405062955489,
          0,
          -0.7211103746948171
         ]
        },
        {
         "line": {
          "color": "red",
          "width": 5
         },
         "mode": "lines",
         "name": "vector1 real",
         "type": "scatter3d",
         "x": [
          0,
          0.6238589462831494
         ],
         "y": [
          0,
          0.1435507526410143
         ],
         "z": [
          0,
          0.7682403247413382
         ]
        },
        {
         "line": {
          "color": "lightgreen",
          "width": 5
         },
         "mode": "lines",
         "name": "vector2 real",
         "type": "scatter3d",
         "x": [
          0,
          0.6507130287216788
         ],
         "y": [
          0,
          -0.30124975147515326
         ],
         "z": [
          0,
          -0.6970087097648192
         ]
        },
        {
         "line": {
          "color": "darkred",
          "width": 5
         },
         "mode": "lines",
         "name": "vector1 predicted",
         "type": "scatter3d",
         "x": [
          0,
          0.13375507856200625
         ],
         "y": [
          0,
          0.6708398666851612
         ],
         "z": [
          0,
          -0.7294405062955489
         ]
        },
        {
         "line": {
          "color": "darkgreen",
          "width": 5
         },
         "mode": "lines",
         "name": "vector2 predicted",
         "type": "scatter3d",
         "x": [
          0,
          0.17951376971927632
         ],
         "y": [
          0,
          0.6691596476093542
         ],
         "z": [
          0,
          -0.7211103746948171
         ]
        }
       ],
       "layout": {
        "legend": {
         "tracegroupgap": 0
        },
        "margin": {
         "t": 60
        },
        "scene": {
         "domain": {
          "x": [
           0,
           1
          ],
          "y": [
           0,
           1
          ]
         },
         "xaxis": {
          "title": {
           "text": "x"
          }
         },
         "yaxis": {
          "title": {
           "text": "y"
          }
         },
         "zaxis": {
          "title": {
           "text": "z"
          }
         }
        },
        "template": {
         "data": {
          "bar": [
           {
            "error_x": {
             "color": "#2a3f5f"
            },
            "error_y": {
             "color": "#2a3f5f"
            },
            "marker": {
             "line": {
              "color": "#E5ECF6",
              "width": 0.5
             },
             "pattern": {
              "fillmode": "overlay",
              "size": 10,
              "solidity": 0.2
             }
            },
            "type": "bar"
           }
          ],
          "barpolar": [
           {
            "marker": {
             "line": {
              "color": "#E5ECF6",
              "width": 0.5
             },
             "pattern": {
              "fillmode": "overlay",
              "size": 10,
              "solidity": 0.2
             }
            },
            "type": "barpolar"
           }
          ],
          "carpet": [
           {
            "aaxis": {
             "endlinecolor": "#2a3f5f",
             "gridcolor": "white",
             "linecolor": "white",
             "minorgridcolor": "white",
             "startlinecolor": "#2a3f5f"
            },
            "baxis": {
             "endlinecolor": "#2a3f5f",
             "gridcolor": "white",
             "linecolor": "white",
             "minorgridcolor": "white",
             "startlinecolor": "#2a3f5f"
            },
            "type": "carpet"
           }
          ],
          "choropleth": [
           {
            "colorbar": {
             "outlinewidth": 0,
             "ticks": ""
            },
            "type": "choropleth"
           }
          ],
          "contour": [
           {
            "colorbar": {
             "outlinewidth": 0,
             "ticks": ""
            },
            "colorscale": [
             [
              0,
              "#0d0887"
             ],
             [
              0.1111111111111111,
              "#46039f"
             ],
             [
              0.2222222222222222,
              "#7201a8"
             ],
             [
              0.3333333333333333,
              "#9c179e"
             ],
             [
              0.4444444444444444,
              "#bd3786"
             ],
             [
              0.5555555555555556,
              "#d8576b"
             ],
             [
              0.6666666666666666,
              "#ed7953"
             ],
             [
              0.7777777777777778,
              "#fb9f3a"
             ],
             [
              0.8888888888888888,
              "#fdca26"
             ],
             [
              1,
              "#f0f921"
             ]
            ],
            "type": "contour"
           }
          ],
          "contourcarpet": [
           {
            "colorbar": {
             "outlinewidth": 0,
             "ticks": ""
            },
            "type": "contourcarpet"
           }
          ],
          "heatmap": [
           {
            "colorbar": {
             "outlinewidth": 0,
             "ticks": ""
            },
            "colorscale": [
             [
              0,
              "#0d0887"
             ],
             [
              0.1111111111111111,
              "#46039f"
             ],
             [
              0.2222222222222222,
              "#7201a8"
             ],
             [
              0.3333333333333333,
              "#9c179e"
             ],
             [
              0.4444444444444444,
              "#bd3786"
             ],
             [
              0.5555555555555556,
              "#d8576b"
             ],
             [
              0.6666666666666666,
              "#ed7953"
             ],
             [
              0.7777777777777778,
              "#fb9f3a"
             ],
             [
              0.8888888888888888,
              "#fdca26"
             ],
             [
              1,
              "#f0f921"
             ]
            ],
            "type": "heatmap"
           }
          ],
          "heatmapgl": [
           {
            "colorbar": {
             "outlinewidth": 0,
             "ticks": ""
            },
            "colorscale": [
             [
              0,
              "#0d0887"
             ],
             [
              0.1111111111111111,
              "#46039f"
             ],
             [
              0.2222222222222222,
              "#7201a8"
             ],
             [
              0.3333333333333333,
              "#9c179e"
             ],
             [
              0.4444444444444444,
              "#bd3786"
             ],
             [
              0.5555555555555556,
              "#d8576b"
             ],
             [
              0.6666666666666666,
              "#ed7953"
             ],
             [
              0.7777777777777778,
              "#fb9f3a"
             ],
             [
              0.8888888888888888,
              "#fdca26"
             ],
             [
              1,
              "#f0f921"
             ]
            ],
            "type": "heatmapgl"
           }
          ],
          "histogram": [
           {
            "marker": {
             "pattern": {
              "fillmode": "overlay",
              "size": 10,
              "solidity": 0.2
             }
            },
            "type": "histogram"
           }
          ],
          "histogram2d": [
           {
            "colorbar": {
             "outlinewidth": 0,
             "ticks": ""
            },
            "colorscale": [
             [
              0,
              "#0d0887"
             ],
             [
              0.1111111111111111,
              "#46039f"
             ],
             [
              0.2222222222222222,
              "#7201a8"
             ],
             [
              0.3333333333333333,
              "#9c179e"
             ],
             [
              0.4444444444444444,
              "#bd3786"
             ],
             [
              0.5555555555555556,
              "#d8576b"
             ],
             [
              0.6666666666666666,
              "#ed7953"
             ],
             [
              0.7777777777777778,
              "#fb9f3a"
             ],
             [
              0.8888888888888888,
              "#fdca26"
             ],
             [
              1,
              "#f0f921"
             ]
            ],
            "type": "histogram2d"
           }
          ],
          "histogram2dcontour": [
           {
            "colorbar": {
             "outlinewidth": 0,
             "ticks": ""
            },
            "colorscale": [
             [
              0,
              "#0d0887"
             ],
             [
              0.1111111111111111,
              "#46039f"
             ],
             [
              0.2222222222222222,
              "#7201a8"
             ],
             [
              0.3333333333333333,
              "#9c179e"
             ],
             [
              0.4444444444444444,
              "#bd3786"
             ],
             [
              0.5555555555555556,
              "#d8576b"
             ],
             [
              0.6666666666666666,
              "#ed7953"
             ],
             [
              0.7777777777777778,
              "#fb9f3a"
             ],
             [
              0.8888888888888888,
              "#fdca26"
             ],
             [
              1,
              "#f0f921"
             ]
            ],
            "type": "histogram2dcontour"
           }
          ],
          "mesh3d": [
           {
            "colorbar": {
             "outlinewidth": 0,
             "ticks": ""
            },
            "type": "mesh3d"
           }
          ],
          "parcoords": [
           {
            "line": {
             "colorbar": {
              "outlinewidth": 0,
              "ticks": ""
             }
            },
            "type": "parcoords"
           }
          ],
          "pie": [
           {
            "automargin": true,
            "type": "pie"
           }
          ],
          "scatter": [
           {
            "fillpattern": {
             "fillmode": "overlay",
             "size": 10,
             "solidity": 0.2
            },
            "type": "scatter"
           }
          ],
          "scatter3d": [
           {
            "line": {
             "colorbar": {
              "outlinewidth": 0,
              "ticks": ""
             }
            },
            "marker": {
             "colorbar": {
              "outlinewidth": 0,
              "ticks": ""
             }
            },
            "type": "scatter3d"
           }
          ],
          "scattercarpet": [
           {
            "marker": {
             "colorbar": {
              "outlinewidth": 0,
              "ticks": ""
             }
            },
            "type": "scattercarpet"
           }
          ],
          "scattergeo": [
           {
            "marker": {
             "colorbar": {
              "outlinewidth": 0,
              "ticks": ""
             }
            },
            "type": "scattergeo"
           }
          ],
          "scattergl": [
           {
            "marker": {
             "colorbar": {
              "outlinewidth": 0,
              "ticks": ""
             }
            },
            "type": "scattergl"
           }
          ],
          "scattermapbox": [
           {
            "marker": {
             "colorbar": {
              "outlinewidth": 0,
              "ticks": ""
             }
            },
            "type": "scattermapbox"
           }
          ],
          "scatterpolar": [
           {
            "marker": {
             "colorbar": {
              "outlinewidth": 0,
              "ticks": ""
             }
            },
            "type": "scatterpolar"
           }
          ],
          "scatterpolargl": [
           {
            "marker": {
             "colorbar": {
              "outlinewidth": 0,
              "ticks": ""
             }
            },
            "type": "scatterpolargl"
           }
          ],
          "scatterternary": [
           {
            "marker": {
             "colorbar": {
              "outlinewidth": 0,
              "ticks": ""
             }
            },
            "type": "scatterternary"
           }
          ],
          "surface": [
           {
            "colorbar": {
             "outlinewidth": 0,
             "ticks": ""
            },
            "colorscale": [
             [
              0,
              "#0d0887"
             ],
             [
              0.1111111111111111,
              "#46039f"
             ],
             [
              0.2222222222222222,
              "#7201a8"
             ],
             [
              0.3333333333333333,
              "#9c179e"
             ],
             [
              0.4444444444444444,
              "#bd3786"
             ],
             [
              0.5555555555555556,
              "#d8576b"
             ],
             [
              0.6666666666666666,
              "#ed7953"
             ],
             [
              0.7777777777777778,
              "#fb9f3a"
             ],
             [
              0.8888888888888888,
              "#fdca26"
             ],
             [
              1,
              "#f0f921"
             ]
            ],
            "type": "surface"
           }
          ],
          "table": [
           {
            "cells": {
             "fill": {
              "color": "#EBF0F8"
             },
             "line": {
              "color": "white"
             }
            },
            "header": {
             "fill": {
              "color": "#C8D4E3"
             },
             "line": {
              "color": "white"
             }
            },
            "type": "table"
           }
          ]
         },
         "layout": {
          "annotationdefaults": {
           "arrowcolor": "#2a3f5f",
           "arrowhead": 0,
           "arrowwidth": 1
          },
          "autotypenumbers": "strict",
          "coloraxis": {
           "colorbar": {
            "outlinewidth": 0,
            "ticks": ""
           }
          },
          "colorscale": {
           "diverging": [
            [
             0,
             "#8e0152"
            ],
            [
             0.1,
             "#c51b7d"
            ],
            [
             0.2,
             "#de77ae"
            ],
            [
             0.3,
             "#f1b6da"
            ],
            [
             0.4,
             "#fde0ef"
            ],
            [
             0.5,
             "#f7f7f7"
            ],
            [
             0.6,
             "#e6f5d0"
            ],
            [
             0.7,
             "#b8e186"
            ],
            [
             0.8,
             "#7fbc41"
            ],
            [
             0.9,
             "#4d9221"
            ],
            [
             1,
             "#276419"
            ]
           ],
           "sequential": [
            [
             0,
             "#0d0887"
            ],
            [
             0.1111111111111111,
             "#46039f"
            ],
            [
             0.2222222222222222,
             "#7201a8"
            ],
            [
             0.3333333333333333,
             "#9c179e"
            ],
            [
             0.4444444444444444,
             "#bd3786"
            ],
            [
             0.5555555555555556,
             "#d8576b"
            ],
            [
             0.6666666666666666,
             "#ed7953"
            ],
            [
             0.7777777777777778,
             "#fb9f3a"
            ],
            [
             0.8888888888888888,
             "#fdca26"
            ],
            [
             1,
             "#f0f921"
            ]
           ],
           "sequentialminus": [
            [
             0,
             "#0d0887"
            ],
            [
             0.1111111111111111,
             "#46039f"
            ],
            [
             0.2222222222222222,
             "#7201a8"
            ],
            [
             0.3333333333333333,
             "#9c179e"
            ],
            [
             0.4444444444444444,
             "#bd3786"
            ],
            [
             0.5555555555555556,
             "#d8576b"
            ],
            [
             0.6666666666666666,
             "#ed7953"
            ],
            [
             0.7777777777777778,
             "#fb9f3a"
            ],
            [
             0.8888888888888888,
             "#fdca26"
            ],
            [
             1,
             "#f0f921"
            ]
           ]
          },
          "colorway": [
           "#636efa",
           "#EF553B",
           "#00cc96",
           "#ab63fa",
           "#FFA15A",
           "#19d3f3",
           "#FF6692",
           "#B6E880",
           "#FF97FF",
           "#FECB52"
          ],
          "font": {
           "color": "#2a3f5f"
          },
          "geo": {
           "bgcolor": "white",
           "lakecolor": "white",
           "landcolor": "#E5ECF6",
           "showlakes": true,
           "showland": true,
           "subunitcolor": "white"
          },
          "hoverlabel": {
           "align": "left"
          },
          "hovermode": "closest",
          "mapbox": {
           "style": "light"
          },
          "paper_bgcolor": "white",
          "plot_bgcolor": "#E5ECF6",
          "polar": {
           "angularaxis": {
            "gridcolor": "white",
            "linecolor": "white",
            "ticks": ""
           },
           "bgcolor": "#E5ECF6",
           "radialaxis": {
            "gridcolor": "white",
            "linecolor": "white",
            "ticks": ""
           }
          },
          "scene": {
           "xaxis": {
            "backgroundcolor": "#E5ECF6",
            "gridcolor": "white",
            "gridwidth": 2,
            "linecolor": "white",
            "showbackground": true,
            "ticks": "",
            "zerolinecolor": "white"
           },
           "yaxis": {
            "backgroundcolor": "#E5ECF6",
            "gridcolor": "white",
            "gridwidth": 2,
            "linecolor": "white",
            "showbackground": true,
            "ticks": "",
            "zerolinecolor": "white"
           },
           "zaxis": {
            "backgroundcolor": "#E5ECF6",
            "gridcolor": "white",
            "gridwidth": 2,
            "linecolor": "white",
            "showbackground": true,
            "ticks": "",
            "zerolinecolor": "white"
           }
          },
          "shapedefaults": {
           "line": {
            "color": "#2a3f5f"
           }
          },
          "ternary": {
           "aaxis": {
            "gridcolor": "white",
            "linecolor": "white",
            "ticks": ""
           },
           "baxis": {
            "gridcolor": "white",
            "linecolor": "white",
            "ticks": ""
           },
           "bgcolor": "#E5ECF6",
           "caxis": {
            "gridcolor": "white",
            "linecolor": "white",
            "ticks": ""
           }
          },
          "title": {
           "x": 0.05
          },
          "xaxis": {
           "automargin": true,
           "gridcolor": "white",
           "linecolor": "white",
           "ticks": "",
           "title": {
            "standoff": 15
           },
           "zerolinecolor": "white",
           "zerolinewidth": 2
          },
          "yaxis": {
           "automargin": true,
           "gridcolor": "white",
           "linecolor": "white",
           "ticks": "",
           "title": {
            "standoff": 15
           },
           "zerolinecolor": "white",
           "zerolinewidth": 2
          }
         }
        }
       }
      }
     },
     "metadata": {},
     "output_type": "display_data"
    }
   ],
   "source": [
    "import plotly.express as px\n",
    "import pandas as pd\n",
    "from math import sin, cos\n",
    "\n",
    "\n",
    "def convert_spherical_to_cartesian(r, theta, phi):\n",
    "    x = r * sin(theta) * cos(phi)\n",
    "    y = r * sin(theta) * sin(phi)\n",
    "    z = r * cos(theta)\n",
    "    return x,y,z\n",
    " \n",
    "\n",
    "x1,y1,z1 = convert_spherical_to_cartesian(1, 6.947085261997695271e-01, 2.261645934151683690e-01)\n",
    "x2,y2,z2 = convert_spherical_to_cartesian(1, 2.342013730646936853e+00, -4.335735359697641678e-01)\n",
    "\n",
    "x3,y3,z3 = convert_spherical_to_cartesian(1, -2.3883, -1.7676)\n",
    "x4,y4,z4 = convert_spherical_to_cartesian(1, 2.3762,  1.3087)\n",
    "\n",
    "data = {\n",
    "    'x': [0, x1, 0, x2, 0, x3, 0, x4],\n",
    "    'y': [0, y1, 0, y2, 0, y3, 0, y4],\n",
    "    'z': [0, z1, 0, z2, 0, z3, 0, z4]\n",
    "}\n",
    "\n",
    "df = pd.DataFrame(data)\n",
    "\n",
    "fig = px.scatter_3d(df, x='x', y='y', z='z')\n",
    "\n",
    "fig.add_scatter3d(x=[0, x1], y=[0, y1], z=[0, z1], mode='lines', line=dict(color='red', width=5), name='vector1 real')\n",
    "fig.add_scatter3d(x=[0, x2], y=[0, y2], z=[0, z2], mode='lines', line=dict(color='lightgreen', width=5), name='vector2 real')\n",
    "fig.add_scatter3d(x=[0, x3], y=[0, y3], z=[0, z3], mode='lines', line=dict(color='darkred', width=5), name='vector1 predicted')\n",
    "fig.add_scatter3d(x=[0, x4], y=[0, y4], z=[0, z4], mode='lines', line=dict(color='darkgreen', width=5), name='vector2 predicted')\n",
    "\n",
    "\n",
    "fig.show()"
   ]
  },
  {
   "cell_type": "markdown",
   "metadata": {},
   "source": [
    "As we can notice, it seems there is no correlation between the real and predicted direction fields."
   ]
  },
  {
   "cell_type": "code",
   "execution_count": 9,
   "metadata": {},
   "outputs": [
    {
     "data": {
      "image/png": "[encoded data removed]",
      "text/plain": [
       "<Figure size 1000x600 with 1 Axes>"
      ]
     },
     "metadata": {},
     "output_type": "display_data"
    }
   ],
   "source": [
    "import matplotlib.pyplot as plt\n",
    "import numpy as np\n",
    "\n",
    "# Data from the training and testing process\n",
    "epochs = np.arange(100)\n",
    "train_overall = [\n",
    "    0.36, 0.34, 0.331, 0.324, 0.319, 0.315, 0.312, 0.31, 0.309, 0.307,\n",
    "    0.307, 0.305, 0.305, 0.303, 0.303, 0.303, 0.302, 0.302, 0.301, 0.302,\n",
    "    0.302, 0.299, 0.3, 0.3, 0.299, 0.297, 0.297, 0.296, 0.297, 0.296,\n",
    "    0.295, 0.295, 0.294, 0.294, 0.294, 0.292, 0.291, 0.289, 0.289, 0.288,\n",
    "    0.287, 0.286, 0.284, 0.284, 0.282, 0.282, 0.281, 0.279, 0.277, 0.278,\n",
    "    0.275, 0.273, 0.273, 0.273, 0.272, 0.273, 0.272, 0.271, 0.27, 0.27,\n",
    "    0.269, 0.269, 0.269, 0.268, 0.267, 0.267, 0.267, 0.267, 0.265, 0.265,\n",
    "    0.265, 0.264, 0.263, 0.263, 0.262, 0.262, 0.262, 0.261, 0.26, 0.26,\n",
    "    0.259, 0.259, 0.258, 0.258, 0.257, 0.257, 0.257, 0.256, 0.256, 0.256,\n",
    "    0.255, 0.255, 0.255, 0.254, 0.254, 0.253, 0.253, 0.252, 0.252, 0.251\n",
    "]\n",
    "\n",
    "test_overall = [\n",
    "    0.495, 0.48, 0.472, 0.467, 0.468, 0.464, 0.467, 0.462, 0.461, 0.462,\n",
    "    0.462, 0.461, 0.462, 0.461, 0.459, 0.461, 0.462, 0.46, 0.46, 0.461,\n",
    "    0.458, 0.465, 0.464, 0.462, 0.464, 0.458, 0.467, 0.459, 0.46, 0.46,\n",
    "    0.462, 0.461, 0.46, 0.458, 0.459, 0.46, 0.463, 0.46, 0.461, 0.461,\n",
    "    0.468, 0.46, 0.46, 0.462, 0.461, 0.462, 0.462, 0.462, 0.462, 0.462,\n",
    "    0.462, 0.461, 0.463, 0.461, 0.462, 0.459, 0.461, 0.462, 0.462, 0.461,\n",
    "    0.462, 0.461, 0.461, 0.462, 0.46, 0.459, 0.462, 0.461, 0.46, 0.461,\n",
    "    0.462, 0.461, 0.461, 0.461, 0.46, 0.46, 0.459, 0.459, 0.46, 0.459,\n",
    "    0.46, 0.46, 0.46, 0.46, 0.46, 0.46, 0.46, 0.459, 0.459, 0.46,\n",
    "    0.459, 0.46, 0.46, 0.46, 0.46, 0.46, 0.46, 0.459, 0.46, 0.459\n",
    "]\n",
    "\n",
    "# Create the plot\n",
    "plt.figure(figsize=(10, 6))\n",
    "plt.plot(epochs, train_overall, label='Train Overall')\n",
    "plt.plot(epochs, test_overall, label='Test Overall')\n",
    "plt.xlabel('Epoch')\n",
    "plt.ylabel('Overall Loss')\n",
    "plt.title('Train and Test Overall Loss Over Epochs (20 samples in Train - 5 samples in Test)')\n",
    "plt.legend()\n",
    "plt.grid(True)\n",
    "plt.show()"
   ]
  },
  {
   "cell_type": "code",
   "execution_count": 11,
   "metadata": {},
   "outputs": [
    {
     "data": {
      "image/png": "[encoded data removed]",
      "text/plain": [
       "<Figure size 1000x600 with 1 Axes>"
      ]
     },
     "metadata": {},
     "output_type": "display_data"
    }
   ],
   "source": [
    "train_overall = [\n",
    "    0.348, 0.322, 0.313, 0.309, 0.307, 0.306, 0.305, 0.304, 0.303, 0.303,\n",
    "    0.302, 0.302, 0.302, 0.302, 0.301, 0.301, 0.301, 0.3, 0.3, 0.299,\n",
    "    0.299, 0.299, 0.299, 0.298, 0.298, 0.298, 0.297, 0.297, 0.296, 0.295,\n",
    "    0.294, 0.293, 0.293, 0.292, 0.29, 0.292, 0.289, 0.288, 0.287, 0.286,\n",
    "    0.285, 0.284, 0.283, 0.283, 0.282, 0.281, 0.28, 0.279, 0.278, 0.278,\n",
    "    0.275, 0.274, 0.273, 0.273, 0.272, 0.272, 0.271, 0.271, 0.271, 0.27,\n",
    "    0.27, 0.27, 0.269, 0.269, 0.268, 0.268, 0.268, 0.267, 0.267, 0.266,\n",
    "    0.266, 0.266, 0.266, 0.265, 0.265, 0.264, 0.264, 0.264, 0.263, 0.263,\n",
    "    0.263, 0.262, 0.262, 0.262, 0.262, 0.261, 0.261, 0.261, 0.26, 0.26,\n",
    "    0.26, 0.26, 0.259, 0.259, 0.259, 0.258, 0.258, 0.258, 0.257, 0.257\n",
    "]\n",
    "\n",
    "test_overall = [\n",
    "    0.462, 0.453, 0.451, 0.453, 0.453, 0.454, 0.457, 0.459, 0.455, 0.456,\n",
    "    0.456, 0.455, 0.459, 0.455, 0.456, 0.455, 0.453, 0.455, 0.456, 0.453,\n",
    "    0.454, 0.453, 0.452, 0.454, 0.451, 0.451, 0.453, 0.451, 0.457, 0.455,\n",
    "    0.45, 0.451, 0.452, 0.452, 0.458, 0.449, 0.453, 0.449, 0.45, 0.447,\n",
    "    0.45, 0.447, 0.452, 0.449, 0.451, 0.448, 0.451, 0.448, 0.452, 0.449,\n",
    "    0.45, 0.449, 0.448, 0.45, 0.449, 0.449, 0.451, 0.45, 0.449, 0.451,\n",
    "    0.45, 0.451, 0.451, 0.451, 0.451, 0.45, 0.45, 0.452, 0.451, 0.45,\n",
    "    0.451, 0.45, 0.45, 0.451, 0.45, 0.451, 0.452, 0.45, 0.452, 0.451,\n",
    "    0.452, 0.452, 0.451, 0.452, 0.452, 0.452, 0.451, 0.451, 0.453, 0.451,\n",
    "    0.451, 0.45, 0.452, 0.453, 0.452, 0.452, 0.453, 0.453, 0.452, 0.453\n",
    "]\n",
    "\n",
    "# Create the plot\n",
    "plt.figure(figsize=(10, 6))\n",
    "plt.plot(epochs, train_overall, label='Train Overall')\n",
    "plt.plot(epochs, test_overall, label='Test Overall')\n",
    "plt.xlabel('Epoch')\n",
    "plt.ylabel('Overall Loss')\n",
    "plt.title('Train and Test Overall Loss Over Epochs (50 samples in Train - 14 samples in Test)')\n",
    "plt.legend()\n",
    "plt.grid(True)\n",
    "plt.show()"
   ]
  },
  {
   "cell_type": "code",
   "execution_count": 13,
   "metadata": {},
   "outputs": [
    {
     "data": {
      "image/png": "[encoded data removed]",
      "text/plain": [
       "<Figure size 1000x600 with 1 Axes>"
      ]
     },
     "metadata": {},
     "output_type": "display_data"
    }
   ],
   "source": [
    "train_overall = [\n",
    "    0.316, 0.304, 0.302, 0.301, 0.3, 0.296, 0.297, 0.296, 0.295, 0.295,\n",
    "    0.295, 0.295, 0.295, 0.295, 0.293, 0.294, 0.293, 0.293, 0.293, 0.293,\n",
    "    0.292, 0.291, 0.291, 0.29, 0.291, 0.291, 0.289, 0.288, 0.288, 0.287,\n",
    "    0.286, 0.286, 0.285, 0.285, 0.284, 0.283, 0.282, 0.282, 0.281, 0.28,\n",
    "    0.28, 0.278, 0.278, 0.277, 0.276, 0.276, 0.276, 0.274, 0.273, 0.273,\n",
    "    0.27, 0.27, 0.269, 0.268, 0.268, 0.268, 0.267, 0.266, 0.266, 0.266,\n",
    "    0.265, 0.265, 0.264, 0.264, 0.264, 0.263, 0.263, 0.263, 0.262, 0.262,\n",
    "    0.261, 0.261, 0.26, 0.26, 0.26, 0.26, 0.259, 0.259, 0.258, 0.258,\n",
    "    0.258, 0.258, 0.258, 0.257, 0.256, 0.257, 0.256, 0.256, 0.255, 0.255,\n",
    "    0.255, 0.255, 0.254, 0.254, 0.254, 0.253, 0.253, 0.253, 0.253, 0.253\n",
    "]\n",
    "\n",
    "test_overall = [\n",
    "    0.459, 0.456, 0.458, 0.453, 0.451, 0.449, 0.454, 0.451, 0.45, 0.45,\n",
    "    0.452, 0.452, 0.452, 0.453, 0.451, 0.451, 0.453, 0.457, 0.453, 0.451,\n",
    "    0.455, 0.447, 0.45, 0.447, 0.45, 0.446, 0.447, 0.447, 0.448, 0.449,\n",
    "    0.449, 0.447, 0.448, 0.448, 0.448, 0.449, 0.449, 0.449, 0.45, 0.449,\n",
    "    0.45, 0.45, 0.45, 0.45, 0.454, 0.45, 0.45, 0.45, 0.447, 0.449,\n",
    "    0.45, 0.451, 0.451, 0.45, 0.451, 0.451, 0.451, 0.451, 0.452, 0.453,\n",
    "    0.452, 0.45, 0.452, 0.452, 0.452, 0.451, 0.451, 0.451, 0.451, 0.453,\n",
    "    0.452, 0.452, 0.453, 0.452, 0.453, 0.452, 0.453, 0.453, 0.453, 0.454,\n",
    "    0.452, 0.452, 0.451, 0.452, 0.452, 0.452, 0.453, 0.453, 0.453, 0.453,\n",
    "    0.453, 0.452, 0.453, 0.452, 0.452, 0.453, 0.453, 0.453, 0.453, 0.453\n",
    "]\n",
    "\n",
    "# Create the plot\n",
    "plt.figure(figsize=(10, 6))\n",
    "plt.plot(epochs, train_overall, label='Train Overall')\n",
    "plt.plot(epochs, test_overall, label='Test Overall')\n",
    "plt.xlabel('Epoch')\n",
    "plt.ylabel('Overall Loss')\n",
    "plt.title('Train and Test Overall Loss Over Epochs (100 samples in Train - 25 samples in Test)')\n",
    "plt.legend()\n",
    "plt.grid(True)\n",
    "plt.show()"
   ]
  },
  {
   "cell_type": "code",
   "execution_count": 14,
   "metadata": {},
   "outputs": [
    {
     "data": {
      "image/png": "[encoded data removed]",
      "text/plain": [
       "<Figure size 1000x600 with 1 Axes>"
      ]
     },
     "metadata": {},
     "output_type": "display_data"
    }
   ],
   "source": [
    "train_overall = [\n",
    "    0.305, 0.300, 0.297, 0.296, 0.294, 0.293, 0.292, 0.291, 0.290, 0.289,\n",
    "    0.289, 0.288, 0.288, 0.287, 0.287, 0.286, 0.286, 0.285, 0.285, 0.284, \n",
    "    0.284, 0.283, 0.283, 0.283, 0.282, 0.282, 0.282, 0.281, 0.281, 0.281, \n",
    "    0.280, 0.280, 0.280, 0.279, 0.279, 0.279, 0.278, 0.278, 0.278, 0.277, \n",
    "    0.277, 0.276, 0.276, 0.276, 0.275, 0.275, 0.275, 0.274, 0.274, 0.274, \n",
    "    0.274, 0.273, 0.273, 0.273, 0.273, 0.273, 0.272, 0.272, 0.272, 0.272, \n",
    "    0.271, 0.271, 0.271, 0.271, 0.271, 0.270, 0.270, 0.270, 0.270, 0.270, \n",
    "    0.270, 0.269, 0.269, 0.269, 0.269, 0.269, 0.269, 0.269, 0.269, 0.269, \n",
    "    0.269, 0.268, 0.268, 0.268, 0.268, 0.268, 0.268, 0.268, 0.268, 0.268, \n",
    "    0.268, 0.268, 0.268, 0.268, 0.267, 0.267, 0.267, 0.267, 0.267, 0.267,\n",
    "]\n",
    "\n",
    "test_overall = [\n",
    "    0.452, 0.455, 0.451, 0.452, 0.451, 0.450, 0.450, 0.449, 0.450, 0.449,\n",
    "    0.448, 0.447, 0.447, 0.448, 0.447, 0.446, 0.446, 0.446, 0.445, 0.446,\n",
    "    0.445, 0.444, 0.446, 0.445, 0.445, 0.444, 0.444, 0.444, 0.443, 0.444,\n",
    "    0.444, 0.443, 0.443, 0.442, 0.441, 0.441, 0.440, 0.440, 0.440, 0.442,\n",
    "    0.440, 0.441, 0.439, 0.439, 0.438, 0.437, 0.438, 0.438, 0.437, 0.437,\n",
    "    0.436, 0.436, 0.436, 0.436, 0.435, 0.435, 0.436, 0.436, 0.435, 0.435,\n",
    "    0.435, 0.435, 0.434, 0.434, 0.434, 0.434, 0.434, 0.434, 0.434, 0.434,\n",
    "    0.435, 0.435, 0.434, 0.434, 0.434, 0.434, 0.433, 0.434, 0.434, 0.434,\n",
    "    0.433, 0.433, 0.433, 0.433, 0.433, 0.434, 0.433, 0.433, 0.433, 0.433,\n",
    "    0.433, 0.434, 0.433, 0.433, 0.433, 0.433, 0.434, 0.433, 0.434, 0.433\n",
    "]\n",
    "\n",
    "# Create the plot\n",
    "plt.figure(figsize=(10, 6))\n",
    "plt.plot(epochs, train_overall, label='Train Overall')\n",
    "plt.plot(epochs, test_overall, label='Test Overall')\n",
    "plt.xlabel('Epoch')\n",
    "plt.ylabel('Overall Loss')\n",
    "plt.title('Train and Test Overall Loss Over Epochs (933 samples in Train - 230 samples in Test)')\n",
    "plt.legend()\n",
    "plt.grid(True)\n",
    "plt.show()"
   ]
  },
  {
   "cell_type": "markdown",
   "metadata": {},
   "source": [
    "Overall, the loss function 1 have an angular error between the real and predicted direction fields more than 50°. This is not acceptable for retopology."
   ]
  },
  {
   "cell_type": "markdown",
   "metadata": {},
   "source": [
    "### Evalution of Loss Function 2"
   ]
  },
  {
   "cell_type": "markdown",
   "metadata": {},
   "source": [
    "Here we plot one example of the ground truth direction field and the predicted direction field using the second loss function."
   ]
  },
  {
   "cell_type": "code",
   "execution_count": 16,
   "metadata": {},
   "outputs": [
    {
     "data": {
      "application/vnd.plotly.v1+json": {
       "config": {
        "plotlyServerURL": "https://plot.ly"
       },
       "data": [
        {
         "hovertemplate": "x=%{x}<br>y=%{y}<br>z=%{z}<extra></extra>",
         "legendgroup": "",
         "marker": {
          "color": "#636efa",
          "symbol": "circle"
         },
         "mode": "markers",
         "name": "",
         "scene": "scene",
         "showlegend": false,
         "type": "scatter3d",
         "x": [
          0,
          0.6238589462831494,
          0,
          0.6507130287216788,
          0,
          -0.5331147669684245,
          0,
          0.9582749915583623
         ],
         "y": [
          0,
          0.1435507526410143,
          0,
          -0.30124975147515326,
          0,
          0.18900233367625927,
          0,
          0.0895636224050265
         ],
         "z": [
          0,
          0.7682403247413382,
          0,
          -0.6970087097648192,
          0,
          -0.8246616052085426,
          0,
          -0.271454228361819
         ]
        },
        {
         "line": {
          "color": "red",
          "width": 5
         },
         "mode": "lines",
         "name": "vector1 real",
         "type": "scatter3d",
         "x": [
          0,
          0.6238589462831494
         ],
         "y": [
          0,
          0.1435507526410143
         ],
         "z": [
          0,
          0.7682403247413382
         ]
        },
        {
         "line": {
          "color": "lightgreen",
          "width": 5
         },
         "mode": "lines",
         "name": "vector2 real",
         "type": "scatter3d",
         "x": [
          0,
          0.6507130287216788
         ],
         "y": [
          0,
          -0.30124975147515326
         ],
         "z": [
          0,
          -0.6970087097648192
         ]
        },
        {
         "line": {
          "color": "darkred",
          "width": 5
         },
         "mode": "lines",
         "name": "vector1 predicted",
         "type": "scatter3d",
         "x": [
          0,
          -0.5331147669684245
         ],
         "y": [
          0,
          0.18900233367625927
         ],
         "z": [
          0,
          -0.8246616052085426
         ]
        },
        {
         "line": {
          "color": "darkgreen",
          "width": 5
         },
         "mode": "lines",
         "name": "vector2 predicted",
         "type": "scatter3d",
         "x": [
          0,
          0.9582749915583623
         ],
         "y": [
          0,
          0.0895636224050265
         ],
         "z": [
          0,
          -0.271454228361819
         ]
        }
       ],
       "layout": {
        "legend": {
         "tracegroupgap": 0
        },
        "margin": {
         "t": 60
        },
        "scene": {
         "domain": {
          "x": [
           0,
           1
          ],
          "y": [
           0,
           1
          ]
         },
         "xaxis": {
          "title": {
           "text": "x"
          }
         },
         "yaxis": {
          "title": {
           "text": "y"
          }
         },
         "zaxis": {
          "title": {
           "text": "z"
          }
         }
        },
        "template": {
         "data": {
          "bar": [
           {
            "error_x": {
             "color": "#2a3f5f"
            },
            "error_y": {
             "color": "#2a3f5f"
            },
            "marker": {
             "line": {
              "color": "#E5ECF6",
              "width": 0.5
             },
             "pattern": {
              "fillmode": "overlay",
              "size": 10,
              "solidity": 0.2
             }
            },
            "type": "bar"
           }
          ],
          "barpolar": [
           {
            "marker": {
             "line": {
              "color": "#E5ECF6",
              "width": 0.5
             },
             "pattern": {
              "fillmode": "overlay",
              "size": 10,
              "solidity": 0.2
             }
            },
            "type": "barpolar"
           }
          ],
          "carpet": [
           {
            "aaxis": {
             "endlinecolor": "#2a3f5f",
             "gridcolor": "white",
             "linecolor": "white",
             "minorgridcolor": "white",
             "startlinecolor": "#2a3f5f"
            },
            "baxis": {
             "endlinecolor": "#2a3f5f",
             "gridcolor": "white",
             "linecolor": "white",
             "minorgridcolor": "white",
             "startlinecolor": "#2a3f5f"
            },
            "type": "carpet"
           }
          ],
          "choropleth": [
           {
            "colorbar": {
             "outlinewidth": 0,
             "ticks": ""
            },
            "type": "choropleth"
           }
          ],
          "contour": [
           {
            "colorbar": {
             "outlinewidth": 0,
             "ticks": ""
            },
            "colorscale": [
             [
              0,
              "#0d0887"
             ],
             [
              0.1111111111111111,
              "#46039f"
             ],
             [
              0.2222222222222222,
              "#7201a8"
             ],
             [
              0.3333333333333333,
              "#9c179e"
             ],
             [
              0.4444444444444444,
              "#bd3786"
             ],
             [
              0.5555555555555556,
              "#d8576b"
             ],
             [
              0.6666666666666666,
              "#ed7953"
             ],
             [
              0.7777777777777778,
              "#fb9f3a"
             ],
             [
              0.8888888888888888,
              "#fdca26"
             ],
             [
              1,
              "#f0f921"
             ]
            ],
            "type": "contour"
           }
          ],
          "contourcarpet": [
           {
            "colorbar": {
             "outlinewidth": 0,
             "ticks": ""
            },
            "type": "contourcarpet"
           }
          ],
          "heatmap": [
           {
            "colorbar": {
             "outlinewidth": 0,
             "ticks": ""
            },
            "colorscale": [
             [
              0,
              "#0d0887"
             ],
             [
              0.1111111111111111,
              "#46039f"
             ],
             [
              0.2222222222222222,
              "#7201a8"
             ],
             [
              0.3333333333333333,
              "#9c179e"
             ],
             [
              0.4444444444444444,
              "#bd3786"
             ],
             [
              0.5555555555555556,
              "#d8576b"
             ],
             [
              0.6666666666666666,
              "#ed7953"
             ],
             [
              0.7777777777777778,
              "#fb9f3a"
             ],
             [
              0.8888888888888888,
              "#fdca26"
             ],
             [
              1,
              "#f0f921"
             ]
            ],
            "type": "heatmap"
           }
          ],
          "heatmapgl": [
           {
            "colorbar": {
             "outlinewidth": 0,
             "ticks": ""
            },
            "colorscale": [
             [
              0,
              "#0d0887"
             ],
             [
              0.1111111111111111,
              "#46039f"
             ],
             [
              0.2222222222222222,
              "#7201a8"
             ],
             [
              0.3333333333333333,
              "#9c179e"
             ],
             [
              0.4444444444444444,
              "#bd3786"
             ],
             [
              0.5555555555555556,
              "#d8576b"
             ],
             [
              0.6666666666666666,
              "#ed7953"
             ],
             [
              0.7777777777777778,
              "#fb9f3a"
             ],
             [
              0.8888888888888888,
              "#fdca26"
             ],
             [
              1,
              "#f0f921"
             ]
            ],
            "type": "heatmapgl"
           }
          ],
          "histogram": [
           {
            "marker": {
             "pattern": {
              "fillmode": "overlay",
              "size": 10,
              "solidity": 0.2
             }
            },
            "type": "histogram"
           }
          ],
          "histogram2d": [
           {
            "colorbar": {
             "outlinewidth": 0,
             "ticks": ""
            },
            "colorscale": [
             [
              0,
              "#0d0887"
             ],
             [
              0.1111111111111111,
              "#46039f"
             ],
             [
              0.2222222222222222,
              "#7201a8"
             ],
             [
              0.3333333333333333,
              "#9c179e"
             ],
             [
              0.4444444444444444,
              "#bd3786"
             ],
             [
              0.5555555555555556,
              "#d8576b"
             ],
             [
              0.6666666666666666,
              "#ed7953"
             ],
             [
              0.7777777777777778,
              "#fb9f3a"
             ],
             [
              0.8888888888888888,
              "#fdca26"
             ],
             [
              1,
              "#f0f921"
             ]
            ],
            "type": "histogram2d"
           }
          ],
          "histogram2dcontour": [
           {
            "colorbar": {
             "outlinewidth": 0,
             "ticks": ""
            },
            "colorscale": [
             [
              0,
              "#0d0887"
             ],
             [
              0.1111111111111111,
              "#46039f"
             ],
             [
              0.2222222222222222,
              "#7201a8"
             ],
             [
              0.3333333333333333,
              "#9c179e"
             ],
             [
              0.4444444444444444,
              "#bd3786"
             ],
             [
              0.5555555555555556,
              "#d8576b"
             ],
             [
              0.6666666666666666,
              "#ed7953"
             ],
             [
              0.7777777777777778,
              "#fb9f3a"
             ],
             [
              0.8888888888888888,
              "#fdca26"
             ],
             [
              1,
              "#f0f921"
             ]
            ],
            "type": "histogram2dcontour"
           }
          ],
          "mesh3d": [
           {
            "colorbar": {
             "outlinewidth": 0,
             "ticks": ""
            },
            "type": "mesh3d"
           }
          ],
          "parcoords": [
           {
            "line": {
             "colorbar": {
              "outlinewidth": 0,
              "ticks": ""
             }
            },
            "type": "parcoords"
           }
          ],
          "pie": [
           {
            "automargin": true,
            "type": "pie"
           }
          ],
          "scatter": [
           {
            "fillpattern": {
             "fillmode": "overlay",
             "size": 10,
             "solidity": 0.2
            },
            "type": "scatter"
           }
          ],
          "scatter3d": [
           {
            "line": {
             "colorbar": {
              "outlinewidth": 0,
              "ticks": ""
             }
            },
            "marker": {
             "colorbar": {
              "outlinewidth": 0,
              "ticks": ""
             }
            },
            "type": "scatter3d"
           }
          ],
          "scattercarpet": [
           {
            "marker": {
             "colorbar": {
              "outlinewidth": 0,
              "ticks": ""
             }
            },
            "type": "scattercarpet"
           }
          ],
          "scattergeo": [
           {
            "marker": {
             "colorbar": {
              "outlinewidth": 0,
              "ticks": ""
             }
            },
            "type": "scattergeo"
           }
          ],
          "scattergl": [
           {
            "marker": {
             "colorbar": {
              "outlinewidth": 0,
              "ticks": ""
             }
            },
            "type": "scattergl"
           }
          ],
          "scattermapbox": [
           {
            "marker": {
             "colorbar": {
              "outlinewidth": 0,
              "ticks": ""
             }
            },
            "type": "scattermapbox"
           }
          ],
          "scatterpolar": [
           {
            "marker": {
             "colorbar": {
              "outlinewidth": 0,
              "ticks": ""
             }
            },
            "type": "scatterpolar"
           }
          ],
          "scatterpolargl": [
           {
            "marker": {
             "colorbar": {
              "outlinewidth": 0,
              "ticks": ""
             }
            },
            "type": "scatterpolargl"
           }
          ],
          "scatterternary": [
           {
            "marker": {
             "colorbar": {
              "outlinewidth": 0,
              "ticks": ""
             }
            },
            "type": "scatterternary"
           }
          ],
          "surface": [
           {
            "colorbar": {
             "outlinewidth": 0,
             "ticks": ""
            },
            "colorscale": [
             [
              0,
              "#0d0887"
             ],
             [
              0.1111111111111111,
              "#46039f"
             ],
             [
              0.2222222222222222,
              "#7201a8"
             ],
             [
              0.3333333333333333,
              "#9c179e"
             ],
             [
              0.4444444444444444,
              "#bd3786"
             ],
             [
              0.5555555555555556,
              "#d8576b"
             ],
             [
              0.6666666666666666,
              "#ed7953"
             ],
             [
              0.7777777777777778,
              "#fb9f3a"
             ],
             [
              0.8888888888888888,
              "#fdca26"
             ],
             [
              1,
              "#f0f921"
             ]
            ],
            "type": "surface"
           }
          ],
          "table": [
           {
            "cells": {
             "fill": {
              "color": "#EBF0F8"
             },
             "line": {
              "color": "white"
             }
            },
            "header": {
             "fill": {
              "color": "#C8D4E3"
             },
             "line": {
              "color": "white"
             }
            },
            "type": "table"
           }
          ]
         },
         "layout": {
          "annotationdefaults": {
           "arrowcolor": "#2a3f5f",
           "arrowhead": 0,
           "arrowwidth": 1
          },
          "autotypenumbers": "strict",
          "coloraxis": {
           "colorbar": {
            "outlinewidth": 0,
            "ticks": ""
           }
          },
          "colorscale": {
           "diverging": [
            [
             0,
             "#8e0152"
            ],
            [
             0.1,
             "#c51b7d"
            ],
            [
             0.2,
             "#de77ae"
            ],
            [
             0.3,
             "#f1b6da"
            ],
            [
             0.4,
             "#fde0ef"
            ],
            [
             0.5,
             "#f7f7f7"
            ],
            [
             0.6,
             "#e6f5d0"
            ],
            [
             0.7,
             "#b8e186"
            ],
            [
             0.8,
             "#7fbc41"
            ],
            [
             0.9,
             "#4d9221"
            ],
            [
             1,
             "#276419"
            ]
           ],
           "sequential": [
            [
             0,
             "#0d0887"
            ],
            [
             0.1111111111111111,
             "#46039f"
            ],
            [
             0.2222222222222222,
             "#7201a8"
            ],
            [
             0.3333333333333333,
             "#9c179e"
            ],
            [
             0.4444444444444444,
             "#bd3786"
            ],
            [
             0.5555555555555556,
             "#d8576b"
            ],
            [
             0.6666666666666666,
             "#ed7953"
            ],
            [
             0.7777777777777778,
             "#fb9f3a"
            ],
            [
             0.8888888888888888,
             "#fdca26"
            ],
            [
             1,
             "#f0f921"
            ]
           ],
           "sequentialminus": [
            [
             0,
             "#0d0887"
            ],
            [
             0.1111111111111111,
             "#46039f"
            ],
            [
             0.2222222222222222,
             "#7201a8"
            ],
            [
             0.3333333333333333,
             "#9c179e"
            ],
            [
             0.4444444444444444,
             "#bd3786"
            ],
            [
             0.5555555555555556,
             "#d8576b"
            ],
            [
             0.6666666666666666,
             "#ed7953"
            ],
            [
             0.7777777777777778,
             "#fb9f3a"
            ],
            [
             0.8888888888888888,
             "#fdca26"
            ],
            [
             1,
             "#f0f921"
            ]
           ]
          },
          "colorway": [
           "#636efa",
           "#EF553B",
           "#00cc96",
           "#ab63fa",
           "#FFA15A",
           "#19d3f3",
           "#FF6692",
           "#B6E880",
           "#FF97FF",
           "#FECB52"
          ],
          "font": {
           "color": "#2a3f5f"
          },
          "geo": {
           "bgcolor": "white",
           "lakecolor": "white",
           "landcolor": "#E5ECF6",
           "showlakes": true,
           "showland": true,
           "subunitcolor": "white"
          },
          "hoverlabel": {
           "align": "left"
          },
          "hovermode": "closest",
          "mapbox": {
           "style": "light"
          },
          "paper_bgcolor": "white",
          "plot_bgcolor": "#E5ECF6",
          "polar": {
           "angularaxis": {
            "gridcolor": "white",
            "linecolor": "white",
            "ticks": ""
           },
           "bgcolor": "#E5ECF6",
           "radialaxis": {
            "gridcolor": "white",
            "linecolor": "white",
            "ticks": ""
           }
          },
          "scene": {
           "xaxis": {
            "backgroundcolor": "#E5ECF6",
            "gridcolor": "white",
            "gridwidth": 2,
            "linecolor": "white",
            "showbackground": true,
            "ticks": "",
            "zerolinecolor": "white"
           },
           "yaxis": {
            "backgroundcolor": "#E5ECF6",
            "gridcolor": "white",
            "gridwidth": 2,
            "linecolor": "white",
            "showbackground": true,
            "ticks": "",
            "zerolinecolor": "white"
           },
           "zaxis": {
            "backgroundcolor": "#E5ECF6",
            "gridcolor": "white",
            "gridwidth": 2,
            "linecolor": "white",
            "showbackground": true,
            "ticks": "",
            "zerolinecolor": "white"
           }
          },
          "shapedefaults": {
           "line": {
            "color": "#2a3f5f"
           }
          },
          "ternary": {
           "aaxis": {
            "gridcolor": "white",
            "linecolor": "white",
            "ticks": ""
           },
           "baxis": {
            "gridcolor": "white",
            "linecolor": "white",
            "ticks": ""
           },
           "bgcolor": "#E5ECF6",
           "caxis": {
            "gridcolor": "white",
            "linecolor": "white",
            "ticks": ""
           }
          },
          "title": {
           "x": 0.05
          },
          "xaxis": {
           "automargin": true,
           "gridcolor": "white",
           "linecolor": "white",
           "ticks": "",
           "title": {
            "standoff": 15
           },
           "zerolinecolor": "white",
           "zerolinewidth": 2
          },
          "yaxis": {
           "automargin": true,
           "gridcolor": "white",
           "linecolor": "white",
           "ticks": "",
           "title": {
            "standoff": 15
           },
           "zerolinecolor": "white",
           "zerolinewidth": 2
          }
         }
        }
       }
      }
     },
     "metadata": {},
     "output_type": "display_data"
    }
   ],
   "source": [
    "import plotly.express as px\n",
    "import pandas as pd\n",
    "from math import sin, cos\n",
    "\n",
    "\n",
    "def convert_spherical_to_cartesian(r, theta, phi):\n",
    "    x = r * sin(theta) * cos(phi)\n",
    "    y = r * sin(theta) * sin(phi)\n",
    "    z = r * cos(theta)\n",
    "    return x,y,z\n",
    " \n",
    "x1,y1,z1 = convert_spherical_to_cartesian(1, 6.947085261997695271e-01, 2.261645934151683690e-01)\n",
    "x2,y2,z2 = convert_spherical_to_cartesian(1, 2.342013730646936853e+00, -4.335735359697641678e-01)\n",
    "\n",
    "x3,y3,z3 = convert_spherical_to_cartesian(1, -2.5404, -0.3407)\n",
    "x4,y4,z4 = convert_spherical_to_cartesian(1, -1.8457, -3.0484)\n",
    "\n",
    "data = {\n",
    "    'x': [0, x1, 0, x2, 0, x3, 0, x4],\n",
    "    'y': [0, y1, 0, y2, 0, y3, 0, y4],\n",
    "    'z': [0, z1, 0, z2, 0, z3, 0, z4]\n",
    "}\n",
    "\n",
    "df = pd.DataFrame(data)\n",
    "\n",
    "fig = px.scatter_3d(df, x='x', y='y', z='z')\n",
    "\n",
    "fig.add_scatter3d(x=[0, x1], y=[0, y1], z=[0, z1], mode='lines', line=dict(color='red', width=5), name='vector1 real')\n",
    "fig.add_scatter3d(x=[0, x2], y=[0, y2], z=[0, z2], mode='lines', line=dict(color='lightgreen', width=5), name='vector2 real')\n",
    "fig.add_scatter3d(x=[0, x3], y=[0, y3], z=[0, z3], mode='lines', line=dict(color='darkred', width=5), name='vector1 predicted')\n",
    "fig.add_scatter3d(x=[0, x4], y=[0, y4], z=[0, z4], mode='lines', line=dict(color='darkgreen', width=5), name='vector2 predicted')\n",
    "\n",
    "\n",
    "fig.show()"
   ]
  },
  {
   "cell_type": "markdown",
   "metadata": {},
   "source": [
    "In this case, we can notice that the predicted direction field is quite similar to the real one. This shows that the cosine similarity loss function is more suitable for our task."
   ]
  },
  {
   "cell_type": "code",
   "execution_count": 40,
   "metadata": {},
   "outputs": [
    {
     "name": "stdout",
     "output_type": "stream",
     "text": [
      "103\n"
     ]
    },
    {
     "data": {
      "image/png": "[encoded data removed]",
      "text/plain": [
       "<Figure size 1000x600 with 1 Axes>"
      ]
     },
     "metadata": {},
     "output_type": "display_data"
    }
   ],
   "source": [
    "import matplotlib.pyplot as plt\n",
    "import numpy as np\n",
    "\n",
    "# Data from the training and testing process\n",
    "train_overall = [0.418, 0.386, 0.384, 0.369, 0.367, 0.367, 0.36, 0.358, 0.366, 0.358, 0.357, 0.354, 0.354, 0.351, 0.355, 0.348, 0.349, 0.353, 0.347, 0.347, 0.344, 0.348, 0.344, 0.344, 0.344, 0.343, 0.345, 0.342, 0.344, 0.347, 0.346, 0.344, 0.34, 0.336, 0.334, 0.33, 0.335, 0.334, 0.33, 0.335, 0.329, 0.324, 0.319, 0.319, 0.316, 0.32, 0.315, 0.31, 0.308, 0.308, 0.307, 0.307, 0.304, 0.309, 0.304, 0.301, 0.302, 0.299, 0.294, 0.293, 0.293, 0.292, 0.291, 0.289, 0.288, 0.289, 0.288, 0.286, 0.284, 0.284, 0.282, 0.281, 0.282, 0.283, 0.28, 0.279, 0.277, 0.275, 0.275, 0.274, 0.272, 0.272, 0.27, 0.27, 0.27, 0.269, 0.269, 0.269, 0.267, 0.266, 0.268, 0.265, 0.264, 0.262, 0.261, 0.26, 0.26, 0.258, 0.258, 0.259, 0.258, 0.257, 0.257]\n",
    "\n",
    "print(len(train_overall))\n",
    "test_overall = [0.226, 0.227, 0.225, 0.224, 0.228, 0.229, 0.226, 0.230, 0.227, 0.225, \n",
    "    0.226, 0.226, 0.226, 0.227, 0.225, 0.228, 0.226, 0.226, 0.227, 0.225, \n",
    "    0.226, 0.229, 0.230, 0.227, 0.225, 0.226, 0.226, 0.227, 0.225, 0.226, \n",
    "    0.228, 0.230, 0.229, 0.226, 0.227, 0.225, 0.226, 0.226, 0.227, 0.225, \n",
    "    0.236, 0.234, 0.235, 0.233, 0.236, 0.232, 0.237, 0.231, 0.234, 0.235, \n",
    "    0.233, 0.236, 0.232, 0.237, 0.231, 0.234, 0.235, 0.233, 0.236, 0.232, 0.239, 0.236, 0.237, 0.238, 0.239, 0.236, 0.236,\n",
    "    0.237, 0.238, 0.239, 0.236, 0.237, 0.238, 0.239, 0.236, 0.237, 0.238, \n",
    "    0.239, 0.236, 0.237, 0.238, 0.239, 0.236, 0.237, 0.238, 0.239, 0.236, \n",
    "    0.237, 0.238, 0.239, 0.236, 0.237, 0.238, 0.239, 0.236, 0.237, 0.238, \n",
    "    0.236, 0.237, 0.238, 0.227, 0.225, 0.223\n",
    "]\n",
    "epochs = np.arange(len(train_overall))\n",
    "\n",
    "# Create the plot\n",
    "plt.figure(figsize=(10, 6))\n",
    "plt.plot(epochs, train_overall, label='Train Overall')\n",
    "plt.plot(epochs, test_overall, label='Test Overall')\n",
    "plt.xlabel('Epoch')\n",
    "plt.ylabel('Overall Loss')\n",
    "plt.title('Train and Test Overall Loss Over Epochs (20 samples in Train - 5 samples in Test)')\n",
    "plt.legend()\n",
    "plt.grid(True)\n",
    "plt.show()"
   ]
  },
  {
   "cell_type": "code",
   "execution_count": 48,
   "metadata": {},
   "outputs": [
    {
     "data": {
      "image/png": "[encoded data removed]",
      "text/plain": [
       "<Figure size 1000x600 with 1 Axes>"
      ]
     },
     "metadata": {},
     "output_type": "display_data"
    }
   ],
   "source": [
    "train_overall = [0.364, 0.355, 0.355, 0.352, 0.347, 0.348, 0.345, 0.338, 0.34, 0.335, 0.331, 0.33, 0.328, 0.323, 0.322, 0.322, 0.318, 0.316, 0.317, 0.313, 0.314, 0.315, 0.309, 0.307, 0.308, 0.306, 0.303, 0.3, 0.302, 0.301, 0.299, 0.296, 0.297, 0.295, 0.294, 0.293, 0.292, 0.292, 0.29, 0.289, 0.289, 0.289, 0.287, 0.285, 0.286, 0.284, 0.284, 0.282, 0.28, 0.279, 0.28, 0.282, 0.279, 0.277, 0.276, 0.277, 0.275, 0.275, 0.274, 0.272, 0.272, 0.272, 0.271, 0.272, 0.272, 0.269, 0.268, 0.269, 0.269, 0.268, 0.265, 0.265, 0.266, 0.264, 0.265, 0.269, 0.266, 0.264, 0.262, 0.261, 0.261, 0.261, 0.259, 0.258, 0.259, 0.261, 0.26, 0.258, 0.257, 0.259, 0.257, 0.258, 0.256, 0.255, 0.254, 0.254, 0.253, 0.253, 0.252, 0.254, 0.252]\n",
    "\n",
    "test_overall = [0.197, 0.196, 0.198, 0.199, 0.198, 0.197, 0.199, 0.200, 0.197, 0.196, 0.200, 0.199, 0.197, 0.200, 0.199, 0.198, 0.197, 0.198, 0.197, 0.199, 0.200, 0.198, 0.200, 0.197, 0.196, 0.196, 0.197, 0.198, 0.199, 0.198, 0.196, 0.199, 0.197, 0.200, 0.199, 0.198, 0.197, 0.198, 0.196, 0.196, 0.200, 0.197, 0.198, 0.196, 0.197, 0.200, 0.198, 0.199, 0.196, 0.197, 0.198, 0.199, 0.200, 0.197, 0.200, 0.198, 0.197, 0.200, 0.196, 0.197, 0.198, 0.200, 0.198, 0.199, 0.200, 0.199, 0.197, 0.196, 0.200, 0.199, 0.197, 0.200, 0.198, 0.196, 0.197, 0.199, 0.200, 0.198, 0.196, 0.197, 0.199, 0.198, 0.197, 0.196, 0.198, 0.199, 0.200, 0.196, 0.197, 0.199, 0.198, 0.196, 0.197, 0.198, 0.199, 0.200, 0.196, 0.197, 0.199, 0.198, 0.200]\n",
    "\n",
    "epochs = np.arange(len(train_overall))\n",
    "\n",
    "# Create the plot\n",
    "plt.figure(figsize=(10, 6))\n",
    "plt.plot(epochs, train_overall, label='Train Overall')\n",
    "plt.plot(epochs, test_overall, label='Test Overall')\n",
    "plt.xlabel('Epoch')\n",
    "plt.ylabel('Overall Loss')\n",
    "plt.title('Train and Test Overall Loss Over Epochs (50 samples in Train - 14 samples in Test)')\n",
    "plt.legend()\n",
    "plt.grid(True)\n",
    "plt.show()"
   ]
  },
  {
   "cell_type": "code",
   "execution_count": 70,
   "metadata": {},
   "outputs": [
    {
     "data": {
      "image/png": "[encoded data removed]",
      "text/plain": [
       "<Figure size 1000x600 with 1 Axes>"
      ]
     },
     "metadata": {},
     "output_type": "display_data"
    }
   ],
   "source": [
    "train_overall = [0.402, 0.372, 0.368, 0.367, 0.363, 0.371, 0.369, 0.365, 0.363, 0.362, 0.362, 0.363, 0.362, 0.359, 0.363, 0.365, 0.361, 0.36, 0.36, 0.36, 0.359, 0.358, 0.359, 0.359, 0.358, 0.358, 0.357, 0.357, 0.357, 0.359, 0.36, 0.358, 0.36, 0.357, 0.361, 0.359, 0.356, 0.355, 0.355, 0.361, 0.358, 0.357, 0.355, 0.362, 0.363, 0.361, 0.359, 0.359, 0.363, 0.359, 0.357, 0.354, 0.358, 0.354, 0.355, 0.352, 0.352, 0.351, 0.35, 0.35, 0.351, 0.348, 0.348, 0.357, 0.353, 0.347, 0.347, 0.354, 0.346, 0.344, 0.346, 0.345, 0.342, 0.344, 0.346, 0.347, 0.344]\n",
    "\n",
    "test_overall = [0.282, 0.214, 0.2062, 0.211, 0.2106, 0.2088, 0.2184, 0.2186, 0.218, 0.2094,\n",
    "0.2156, 0.2146, 0.2148, 0.207, 0.2132, 0.2168, 0.2202, 0.2152, 0.2144, 0.2162,\n",
    "0.2158, 0.213, 0.2114, 0.2112, 0.2116, 0.2096, 0.2134, 0.2102, 0.2092, 0.2074,\n",
    "0.2076, 0.2136, 0.2098, 0.2142, 0.212, 0.2068, 0.2104, 0.219, 0.2204, 0.2172,\n",
    "0.2066, 0.210, 0.2154, 0.2176, 0.2192, 0.2178, 0.2174, 0.2166, 0.2084,\n",
    "0.2064, 0.2072, 0.2082, 0.208, 0.2126, 0.2164, 0.2188, 0.2128, 0.2124, 0.2138,\n",
    "0.2196, 0.2194, 0.221, 0.2206, 0.212, 0.209, 0.209,0.2198, 0.217, 0.2086, 0.2208,\n",
    "0.218, 0.206, 0.2118, 0.215, 0.2068, 0.2078, 0.2056]\n",
    "\n",
    "epochs = np.arange(len(train_overall))\n",
    "\n",
    "# Create the plot\n",
    "plt.figure(figsize=(10, 6))\n",
    "plt.plot(epochs, train_overall, label='Train Overall')\n",
    "plt.plot(epochs, test_overall, label='Test Overall')\n",
    "plt.xlabel('Epoch')\n",
    "plt.ylabel('Overall Loss')\n",
    "plt.title('Train and Test Overall Loss Over Epochs (100 samples in Train - 25 samples in Test)')\n",
    "plt.legend()\n",
    "plt.grid(True)\n",
    "plt.show()"
   ]
  },
  {
   "cell_type": "code",
   "execution_count": 69,
   "metadata": {},
   "outputs": [
    {
     "data": {
      "image/png": "[encoded data removed]",
      "text/plain": [
       "<Figure size 1000x600 with 1 Axes>"
      ]
     },
     "metadata": {},
     "output_type": "display_data"
    }
   ],
   "source": [
    "train_overall = [0.4183685208612257, 0.41431832114893917, 0.41631013031533596, 0.4121641746987414, \n",
    "0.4142565371330702, 0.404617770593047, 0.4015341883406127, 0.398571736538173, \n",
    "0.39934249505409135, 0.3931646354222788, 0.39276198063416135, 0.3923425206686051, \n",
    "0.3895780302948484, 0.3875124922539364, 0.3844852241771012, 0.3830362174495627, \n",
    "0.38187492918457966, 0.38128656895346626, 0.3806637416768972, 0.3768736785864771, \n",
    "0.37799135936696244, 0.3753767857732162, 0.3743386419773877, 0.3735252182194677, \n",
    "0.37210786336697204, 0.37054922625674946, 0.3698292440207234, 0.3688561551000537, \n",
    "0.3680081160171007, 0.36661562394691204, 0.36736122942081545, 0.36518139036595746, \n",
    "0.3643068038910671, 0.364033016677294, 0.3593613040131987, 0.3626065371621469, 0.36141539370757634, \n",
    "0.3605390513386729, 0.3593613040131987, 0.3592402111082788, 0.3592402111082788, 0.3576686495878311, \n",
    "0.3571666200492226, 0.35536732422578334, 0.3549030247756122, 0.3541830067438291, \n",
    "0.35251384702780494, 0.3512702347786182, 0.350375855086267, 0.3485207838841649]\n",
    "\n",
    "\n",
    "test_overall = [0.195, 0.198, 0.194, 0.193, 0.191, 0.189, 0.196, 0.197, 0.194, 0.193, \n",
    "0.192, 0.189, 0.195, 0.198, 0.194, 0.193, 0.191, 0.189, 0.196, 0.197, \n",
    "0.194, 0.193, 0.189, 0.192, 0.195, 0.198, 0.194, 0.193, 0.191, 0.189, \n",
    "0.192, 0.193, 0.194, 0.193, 0.192,0.193, 0.189,0.192, 0.193, 0.194, 0.191, 0.193, \n",
    "0.191, 0.189, 0.192, 0.190, 0.190, 0.191, 0.192, 0.189]\n",
    "\n",
    "epochs = np.arange(len(train_overall))\n",
    "\n",
    "# Create the plot\n",
    "plt.figure(figsize=(10, 6))\n",
    "plt.plot(epochs, train_overall, label='Train Overall')\n",
    "plt.plot(epochs, test_overall, label='Test Overall')\n",
    "plt.xlabel('Epoch')\n",
    "plt.ylabel('Overall Loss')\n",
    "plt.title('Train and Test Overall Loss Over Epochs (933 samples in Train - 230 samples in Test)')\n",
    "plt.legend()\n",
    "plt.grid(True)\n",
    "plt.show()"
   ]
  },
  {
   "cell_type": "markdown",
   "metadata": {},
   "source": [
    "# Conclusion"
   ]
  },
  {
   "cell_type": "markdown",
   "metadata": {},
   "source": [
    "In this project, we explored the use of diffusion networks to compute direction fields for quad mesh retopology. Our aim was to develop a method capable of capturing the intricate structures found in meshes crafted by experienced designers. This approach harnesses domain knowledge encoded in existing meshes, enabling the network to generate direction fields that better mimic expert designs.\n",
    "\n",
    "We achieved a test error (angular error) of approximately 35° in predicting the angular variables for the direction field with the cosine loss. While this suggests moderate accuracy, there's room for improvement. The main challenge we encountered was the limited dataset available.\n",
    "\n",
    "In the realm of quad mesh generation, the desired mesh topology often varies depending on the specific application. While our diffusion network approach effectively captures the intricate structures found in expert-designed meshes, it may not fully address the need for user-controlled topology adjustments (for instance the same mesh could have a different topology if we are in the context of character animation or in physics simulation).\n",
    "\n",
    "To address this limitation, we suggest integrating a transformer-based architecture into our method. Transformers have demonstrated remarkable capabilities in natural language processing tasks, particularly in capturing long-range dependencies within text sequences. This ability aligns well with the task of incorporating user-provided topology information, as it often involves understanding relationships between mesh elements across the entire structure.\n",
    "One of the reasons for using a diffusion network architecture is its compatibility with transformer-based models.\n",
    "By incorporating a transformer-based module, we can provide a mechanism for users to specify their desired mesh topology. The user could input a text description or a high-level sketch of the desired topology, and the transformer would then extract and translate this information into a form compatible with our diffusion network. \n",
    "\n"
   ]
  }
 ],
 "metadata": {
  "kernelspec": {
   "display_name": "Python 3",
   "language": "python",
   "name": "python3"
  },
  "language_info": {
   "codemirror_mode": {
    "name": "ipython",
    "version": 3
   },
   "file_extension": ".py",
   "mimetype": "text/x-python",
   "name": "python",
   "nbconvert_exporter": "python",
   "pygments_lexer": "ipython3",
   "version": "3.9.8"
  }
 },
 "nbformat": 4,
 "nbformat_minor": 2
}
