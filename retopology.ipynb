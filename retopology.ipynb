{
 "cells": [
  {
   "cell_type": "code",
   "execution_count": 5,
   "metadata": {},
   "outputs": [],
   "source": [
    "# importing libraries\n",
    "\n",
    "import open3d, ctypes, os\n",
    "from glob import glob"
   ]
  },
  {
   "cell_type": "markdown",
   "metadata": {},
   "source": [
    "## Loading mesh to retopologize"
   ]
  },
  {
   "cell_type": "code",
   "execution_count": 55,
   "metadata": {},
   "outputs": [],
   "source": [
    "file_path = \"./male.obj\" # change this URL to the path of the file (male.obj is a test file)\n",
    "\n",
    "'''\n",
    "# open the file\n",
    "with open(file_path, \"r+\") as file:\n",
    "  lines = file.readlines()\n",
    "  file.seek(0)  # Posiziona il cursore all'inizio del file\n",
    "\n",
    "  # Scrivi solo le linee che iniziano con 'v' o 'f'\n",
    "  for line in lines:\n",
    "      if (line[0] == \"v\" or line[0] == \"f\") and line[1] == \" \":\n",
    "          file.write(line)\n",
    "\n",
    "  # Tronca il file alla lunghezza attuale per rimuovere il contenuto rimanente\n",
    "  file.truncate()\n",
    "\n",
    "file.close()\n",
    "'''\n",
    "\n",
    "\n",
    "k = 3 # neighborhood size\n",
    "\n",
    "mesh = open3d.io.read_triangle_mesh(file_path)\n",
    "\n",
    "vertices = mesh.vertices\n",
    "triangles = mesh.triangles\n",
    "\n",
    "num_vertices = len(vertices)\n",
    "num_triangles = len(triangles)\n",
    "\n",
    "# create file input.txt\n",
    "file = open(\"input.txt\", \"w\")\n",
    "\n",
    "# write vertices\n",
    "for i in range(len(vertices)):\n",
    "    file.write(str(vertices[i][0]) + \" \" + str(vertices[i][1]) + \" \" + str(vertices[i][2]) + \"\\n\")\n",
    "\n",
    "# write triangles\n",
    "for i in range(len(triangles)):\n",
    "    file.write(str(triangles[i][0]) + \" \" + str(triangles[i][1]) + \" \" + str(triangles[i][2]) + \"\\n\")\n",
    "\n",
    "\n",
    "file.close()"
   ]
  },
  {
   "cell_type": "markdown",
   "metadata": {},
   "source": [
    "## Detection of Crest Line"
   ]
  },
  {
   "cell_type": "code",
   "execution_count": 58,
   "metadata": {},
   "outputs": [
    {
     "data": {
      "text/plain": [
       "1"
      ]
     },
     "execution_count": 58,
     "metadata": {},
     "output_type": "execute_result"
    }
   ],
   "source": [
    "# loading the shared library with C++\n",
    "shared_library_path = glob(os.path.join(\"./build\", \"**/*.so\"), recursive=True)\n",
    "assert shared_library_path, \"No shared library found, please build the shared library first (setup.py)\"\n",
    "shared_library = ctypes.CDLL(shared_library_path[0])\n",
    "\n",
    "\n",
    "# detect crest lines\n",
    "shared_library.crest_lines(num_vertices, num_triangles, k)\n"
   ]
  }
 ],
 "metadata": {
  "kernelspec": {
   "display_name": "Python 3",
   "language": "python",
   "name": "python3"
  },
  "language_info": {
   "codemirror_mode": {
    "name": "ipython",
    "version": 3
   },
   "file_extension": ".py",
   "mimetype": "text/x-python",
   "name": "python",
   "nbconvert_exporter": "python",
   "pygments_lexer": "ipython3",
   "version": "3.9.8"
  }
 },
 "nbformat": 4,
 "nbformat_minor": 2
}
